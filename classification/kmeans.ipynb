{
 "cells": [
  {
   "cell_type": "code",
   "execution_count": 1,
   "metadata": {},
   "outputs": [],
   "source": [
    "%matplotlib inline"
   ]
  },
  {
   "cell_type": "code",
   "execution_count": 2,
   "metadata": {},
   "outputs": [
    {
     "data": {
      "image/png": "[encoded data removed]",
      "text/plain": [
       "<Figure size 432x288 with 1 Axes>"
      ]
     },
     "metadata": {},
     "output_type": "display_data"
    }
   ],
   "source": [
    "X = np.array([[7, 5], [5, 7], [7, 7], [4, 4], [4, 6], [1, 4],\n",
    "              [0, 0], [2, 2], [8, 7], [6, 8], [5, 5], [3, 7]])\n",
    "\n",
    "plt.scatter(X[:, 0], X[:, 1], s=100)\n",
    "plt.show()"
   ]
  },
  {
   "cell_type": "markdown",
   "metadata": {},
   "source": [
    "### 랜덤으로 두개 선택 K = 2"
   ]
  },
  {
   "cell_type": "code",
   "execution_count": 3,
   "metadata": {
    "scrolled": true
   },
   "outputs": [
    {
     "data": {
      "image/png": "[encoded data removed]",
      "text/plain": [
       "<Figure size 432x288 with 1 Axes>"
      ]
     },
     "metadata": {},
     "output_type": "display_data"
    }
   ],
   "source": [
    "plt.scatter(X[:, 0], X[:, 1], s=100)\n",
    "\n",
    "plt.scatter(5, 7, s=200, c=\"r\", alpha=0.5)\n",
    "plt.scatter(4, 4, s=200, c=\"g\", alpha=0.5)\n",
    " \n",
    "plt.show()"
   ]
  },
  {
   "cell_type": "code",
   "execution_count": 4,
   "metadata": {},
   "outputs": [],
   "source": [
    "kcen = np.array([[5, 7], [4,4]])"
   ]
  },
  {
   "cell_type": "code",
   "execution_count": 5,
   "metadata": {},
   "outputs": [],
   "source": [
    "rows = []\n",
    "for k in range(2):\n",
    "    row = []\n",
    "    for i in range(len(X)):\n",
    "        dist = np.linalg.norm(X[i] - kcen[k])**2\n",
    "        row.append(dist)\n",
    "    rows.append(row)\n",
    "    \n",
    "res = pd.DataFrame(rows).T\n",
    "ksel = []\n",
    "\n",
    "for i in range(len(res)):\n",
    "    ksel.append( res.loc[i].idxmin())\n",
    "\n",
    "res = pd.concat([res, pd.Series(ksel, name=3)],axis=1)"
   ]
  },
  {
   "cell_type": "code",
   "execution_count": 6,
   "metadata": {},
   "outputs": [
    {
     "data": {
      "text/html": [
       "<div>\n",
       "<style scoped>\n",
       "    .dataframe tbody tr th:only-of-type {\n",
       "        vertical-align: middle;\n",
       "    }\n",
       "\n",
       "    .dataframe tbody tr th {\n",
       "        vertical-align: top;\n",
       "    }\n",
       "\n",
       "    .dataframe thead th {\n",
       "        text-align: right;\n",
       "    }\n",
       "</style>\n",
       "<table border=\"1\" class=\"dataframe\">\n",
       "  <thead>\n",
       "    <tr style=\"text-align: right;\">\n",
       "      <th></th>\n",
       "      <th>0</th>\n",
       "      <th>1</th>\n",
       "      <th>3</th>\n",
       "    </tr>\n",
       "  </thead>\n",
       "  <tbody>\n",
       "    <tr>\n",
       "      <th>0</th>\n",
       "      <td>8.0</td>\n",
       "      <td>10.0</td>\n",
       "      <td>0</td>\n",
       "    </tr>\n",
       "    <tr>\n",
       "      <th>1</th>\n",
       "      <td>0.0</td>\n",
       "      <td>10.0</td>\n",
       "      <td>0</td>\n",
       "    </tr>\n",
       "    <tr>\n",
       "      <th>2</th>\n",
       "      <td>4.0</td>\n",
       "      <td>18.0</td>\n",
       "      <td>0</td>\n",
       "    </tr>\n",
       "    <tr>\n",
       "      <th>3</th>\n",
       "      <td>10.0</td>\n",
       "      <td>0.0</td>\n",
       "      <td>1</td>\n",
       "    </tr>\n",
       "    <tr>\n",
       "      <th>4</th>\n",
       "      <td>2.0</td>\n",
       "      <td>4.0</td>\n",
       "      <td>0</td>\n",
       "    </tr>\n",
       "    <tr>\n",
       "      <th>5</th>\n",
       "      <td>25.0</td>\n",
       "      <td>9.0</td>\n",
       "      <td>1</td>\n",
       "    </tr>\n",
       "    <tr>\n",
       "      <th>6</th>\n",
       "      <td>74.0</td>\n",
       "      <td>32.0</td>\n",
       "      <td>1</td>\n",
       "    </tr>\n",
       "    <tr>\n",
       "      <th>7</th>\n",
       "      <td>34.0</td>\n",
       "      <td>8.0</td>\n",
       "      <td>1</td>\n",
       "    </tr>\n",
       "    <tr>\n",
       "      <th>8</th>\n",
       "      <td>9.0</td>\n",
       "      <td>25.0</td>\n",
       "      <td>0</td>\n",
       "    </tr>\n",
       "    <tr>\n",
       "      <th>9</th>\n",
       "      <td>2.0</td>\n",
       "      <td>20.0</td>\n",
       "      <td>0</td>\n",
       "    </tr>\n",
       "    <tr>\n",
       "      <th>10</th>\n",
       "      <td>4.0</td>\n",
       "      <td>2.0</td>\n",
       "      <td>1</td>\n",
       "    </tr>\n",
       "    <tr>\n",
       "      <th>11</th>\n",
       "      <td>4.0</td>\n",
       "      <td>10.0</td>\n",
       "      <td>0</td>\n",
       "    </tr>\n",
       "  </tbody>\n",
       "</table>\n",
       "</div>"
      ],
      "text/plain": [
       "       0     1  3\n",
       "0    8.0  10.0  0\n",
       "1    0.0  10.0  0\n",
       "2    4.0  18.0  0\n",
       "3   10.0   0.0  1\n",
       "4    2.0   4.0  0\n",
       "5   25.0   9.0  1\n",
       "6   74.0  32.0  1\n",
       "7   34.0   8.0  1\n",
       "8    9.0  25.0  0\n",
       "9    2.0  20.0  0\n",
       "10   4.0   2.0  1\n",
       "11   4.0  10.0  0"
      ]
     },
     "execution_count": 6,
     "metadata": {},
     "output_type": "execute_result"
    }
   ],
   "source": [
    "res"
   ]
  },
  {
   "cell_type": "code",
   "execution_count": 7,
   "metadata": {},
   "outputs": [
    {
     "data": {
      "text/plain": [
       "80.0"
      ]
     },
     "execution_count": 7,
     "metadata": {},
     "output_type": "execute_result"
    }
   ],
   "source": [
    "res[res[3]==0][0].sum() + res[res[3]==1][1].sum()"
   ]
  },
  {
   "cell_type": "markdown",
   "metadata": {},
   "source": [
    "### 새로운 centroid 구하기"
   ]
  },
  {
   "cell_type": "code",
   "execution_count": 8,
   "metadata": {},
   "outputs": [
    {
     "data": {
      "image/png": "[encoded data removed]",
      "text/plain": [
       "<Figure size 432x288 with 1 Axes>"
      ]
     },
     "metadata": {},
     "output_type": "display_data"
    }
   ],
   "source": [
    "k0 = X[res[res[3] == 0].index]\n",
    "k1 = X[res[res[3] == 1].index]\n",
    "\n",
    "plt.scatter(X[:, 0], X[:, 1], s=100)\n",
    "\n",
    "#plt.scatter(5, 7, s=200, c=\"r\", alpha=0.5)\n",
    "#plt.scatter(4, 4, s=200, c=\"g\", alpha=0.5)\n",
    "\n",
    "plt.scatter( k0[:,0], k0[:,1], c=\"r\", alpha=0.3, s=400)\n",
    "plt.scatter( k1[:,0], k1[:,1], c=\"g\", alpha=0.3, s=400)\n",
    "\n",
    "plt.scatter( np.mean(k0[:,0]), np.mean( k0[:,1]), c='r')\n",
    "plt.scatter( np.mean(k1[:,0]), np.mean( k1[:,1]), c='g')\n",
    "plt.show()"
   ]
  },
  {
   "cell_type": "code",
   "execution_count": null,
   "metadata": {},
   "outputs": [],
   "source": []
  },
  {
   "cell_type": "code",
   "execution_count": 9,
   "metadata": {
    "scrolled": true
   },
   "outputs": [
    {
     "data": {
      "text/plain": [
       "(5.714285714285714, 6.714285714285714)"
      ]
     },
     "execution_count": 9,
     "metadata": {},
     "output_type": "execute_result"
    }
   ],
   "source": [
    "np.mean(k0[:,0]), np.mean( k0[:,1])"
   ]
  },
  {
   "cell_type": "code",
   "execution_count": 10,
   "metadata": {
    "scrolled": true
   },
   "outputs": [
    {
     "data": {
      "text/plain": [
       "(2.4, 3.0)"
      ]
     },
     "execution_count": 10,
     "metadata": {},
     "output_type": "execute_result"
    }
   ],
   "source": [
    "np.mean(k1[:,0]), np.mean( k1[:,1])"
   ]
  },
  {
   "cell_type": "code",
   "execution_count": 11,
   "metadata": {},
   "outputs": [],
   "source": [
    "kcen = np.array([[5.714285, 6.7142857], [2.4, 3]])"
   ]
  },
  {
   "cell_type": "code",
   "execution_count": 12,
   "metadata": {},
   "outputs": [],
   "source": [
    "rows = []\n",
    "for k in range(2):\n",
    "    row = []\n",
    "    for i in range(len(X)):\n",
    "        dist = np.linalg.norm(X[i] - kcen[k])**2\n",
    "        row.append(dist)\n",
    "    rows.append(row)\n",
    "    \n",
    "res = pd.DataFrame(rows).T\n",
    "ksel = []\n",
    "\n",
    "for i in range(len(res)):\n",
    "    ksel.append( res.loc[i].idxmin())\n",
    "\n",
    "res = pd.concat([res, pd.Series(ksel, name=3)],axis=1)"
   ]
  },
  {
   "cell_type": "code",
   "execution_count": 13,
   "metadata": {},
   "outputs": [
    {
     "data": {
      "text/html": [
       "<div>\n",
       "<style scoped>\n",
       "    .dataframe tbody tr th:only-of-type {\n",
       "        vertical-align: middle;\n",
       "    }\n",
       "\n",
       "    .dataframe tbody tr th {\n",
       "        vertical-align: top;\n",
       "    }\n",
       "\n",
       "    .dataframe thead th {\n",
       "        text-align: right;\n",
       "    }\n",
       "</style>\n",
       "<table border=\"1\" class=\"dataframe\">\n",
       "  <thead>\n",
       "    <tr style=\"text-align: right;\">\n",
       "      <th></th>\n",
       "      <th>0</th>\n",
       "      <th>1</th>\n",
       "      <th>3</th>\n",
       "    </tr>\n",
       "  </thead>\n",
       "  <tbody>\n",
       "    <tr>\n",
       "      <th>0</th>\n",
       "      <td>4.591839</td>\n",
       "      <td>25.16</td>\n",
       "      <td>0</td>\n",
       "    </tr>\n",
       "    <tr>\n",
       "      <th>1</th>\n",
       "      <td>0.591836</td>\n",
       "      <td>22.76</td>\n",
       "      <td>0</td>\n",
       "    </tr>\n",
       "    <tr>\n",
       "      <th>2</th>\n",
       "      <td>1.734696</td>\n",
       "      <td>37.16</td>\n",
       "      <td>0</td>\n",
       "    </tr>\n",
       "    <tr>\n",
       "      <th>3</th>\n",
       "      <td>10.306120</td>\n",
       "      <td>3.56</td>\n",
       "      <td>1</td>\n",
       "    </tr>\n",
       "    <tr>\n",
       "      <th>4</th>\n",
       "      <td>3.448977</td>\n",
       "      <td>11.56</td>\n",
       "      <td>0</td>\n",
       "    </tr>\n",
       "    <tr>\n",
       "      <th>5</th>\n",
       "      <td>29.591830</td>\n",
       "      <td>2.96</td>\n",
       "      <td>1</td>\n",
       "    </tr>\n",
       "    <tr>\n",
       "      <th>6</th>\n",
       "      <td>77.734686</td>\n",
       "      <td>14.76</td>\n",
       "      <td>1</td>\n",
       "    </tr>\n",
       "    <tr>\n",
       "      <th>7</th>\n",
       "      <td>36.020403</td>\n",
       "      <td>1.16</td>\n",
       "      <td>1</td>\n",
       "    </tr>\n",
       "    <tr>\n",
       "      <th>8</th>\n",
       "      <td>5.306126</td>\n",
       "      <td>47.36</td>\n",
       "      <td>0</td>\n",
       "    </tr>\n",
       "    <tr>\n",
       "      <th>9</th>\n",
       "      <td>1.734694</td>\n",
       "      <td>37.96</td>\n",
       "      <td>0</td>\n",
       "    </tr>\n",
       "    <tr>\n",
       "      <th>10</th>\n",
       "      <td>3.448979</td>\n",
       "      <td>10.76</td>\n",
       "      <td>0</td>\n",
       "    </tr>\n",
       "    <tr>\n",
       "      <th>11</th>\n",
       "      <td>7.448976</td>\n",
       "      <td>16.36</td>\n",
       "      <td>0</td>\n",
       "    </tr>\n",
       "  </tbody>\n",
       "</table>\n",
       "</div>"
      ],
      "text/plain": [
       "            0      1  3\n",
       "0    4.591839  25.16  0\n",
       "1    0.591836  22.76  0\n",
       "2    1.734696  37.16  0\n",
       "3   10.306120   3.56  1\n",
       "4    3.448977  11.56  0\n",
       "5   29.591830   2.96  1\n",
       "6   77.734686  14.76  1\n",
       "7   36.020403   1.16  1\n",
       "8    5.306126  47.36  0\n",
       "9    1.734694  37.96  0\n",
       "10   3.448979  10.76  0\n",
       "11   7.448976  16.36  0"
      ]
     },
     "execution_count": 13,
     "metadata": {},
     "output_type": "execute_result"
    }
   ],
   "source": [
    "res"
   ]
  },
  {
   "cell_type": "code",
   "execution_count": 14,
   "metadata": {},
   "outputs": [
    {
     "data": {
      "text/plain": [
       "50.74612137959592"
      ]
     },
     "execution_count": 14,
     "metadata": {},
     "output_type": "execute_result"
    }
   ],
   "source": [
    "res[res[3]==0][0].sum() + res[res[3]==1][1].sum()"
   ]
  },
  {
   "cell_type": "markdown",
   "metadata": {},
   "source": [
    "### 한번더 갱신"
   ]
  },
  {
   "cell_type": "code",
   "execution_count": 15,
   "metadata": {},
   "outputs": [
    {
     "data": {
      "image/png": "[encoded data removed]",
      "text/plain": [
       "<Figure size 432x288 with 1 Axes>"
      ]
     },
     "metadata": {},
     "output_type": "display_data"
    }
   ],
   "source": [
    "k0 = X[res[res[3] == 0].index]\n",
    "k1 = X[res[res[3] == 1].index]\n",
    "\n",
    "plt.scatter(X[:, 0], X[:, 1], s=100)\n",
    "\n",
    "plt.scatter( k0[:,0], k0[:,1], c=\"r\", alpha=0.3, s=400)\n",
    "plt.scatter( k1[:,0], k1[:,1], c=\"g\", alpha=0.3, s=400)\n",
    "\n",
    "plt.scatter( np.mean(k0[:,0]), np.mean( k0[:,1]), c='r')\n",
    "plt.scatter( np.mean(k1[:,0]), np.mean( k1[:,1]), c='g')\n",
    "plt.show()"
   ]
  },
  {
   "cell_type": "code",
   "execution_count": 16,
   "metadata": {
    "scrolled": false
   },
   "outputs": [
    {
     "data": {
      "text/plain": [
       "(5.625, 6.5)"
      ]
     },
     "execution_count": 16,
     "metadata": {},
     "output_type": "execute_result"
    }
   ],
   "source": [
    "np.mean(k0[:,0]), np.mean( k0[:,1])"
   ]
  },
  {
   "cell_type": "code",
   "execution_count": 17,
   "metadata": {
    "scrolled": true
   },
   "outputs": [
    {
     "data": {
      "text/plain": [
       "(1.75, 2.5)"
      ]
     },
     "execution_count": 17,
     "metadata": {},
     "output_type": "execute_result"
    }
   ],
   "source": [
    "np.mean(k1[:,0]), np.mean( k1[:,1])"
   ]
  },
  {
   "cell_type": "code",
   "execution_count": null,
   "metadata": {},
   "outputs": [],
   "source": []
  },
  {
   "cell_type": "code",
   "execution_count": null,
   "metadata": {},
   "outputs": [],
   "source": []
  },
  {
   "cell_type": "code",
   "execution_count": 18,
   "metadata": {},
   "outputs": [],
   "source": [
    "kcen = np.array([[5.625, 6.5], [1.75, 2.5]])"
   ]
  },
  {
   "cell_type": "code",
   "execution_count": 19,
   "metadata": {},
   "outputs": [],
   "source": [
    "rows = []\n",
    "for k in range(2):\n",
    "    row = []\n",
    "    for i in range(len(X)):\n",
    "        dist = np.linalg.norm(X[i] - kcen[k])**2\n",
    "        row.append(dist)\n",
    "    rows.append(row)\n",
    "    \n",
    "res = pd.DataFrame(rows).T\n",
    "ksel = []\n",
    "\n",
    "for i in range(len(res)):\n",
    "    ksel.append( res.loc[i].idxmin())\n",
    "\n",
    "res = pd.concat([res, pd.Series(ksel, name=3)],axis=1)"
   ]
  },
  {
   "cell_type": "code",
   "execution_count": 20,
   "metadata": {},
   "outputs": [
    {
     "data": {
      "text/html": [
       "<div>\n",
       "<style scoped>\n",
       "    .dataframe tbody tr th:only-of-type {\n",
       "        vertical-align: middle;\n",
       "    }\n",
       "\n",
       "    .dataframe tbody tr th {\n",
       "        vertical-align: top;\n",
       "    }\n",
       "\n",
       "    .dataframe thead th {\n",
       "        text-align: right;\n",
       "    }\n",
       "</style>\n",
       "<table border=\"1\" class=\"dataframe\">\n",
       "  <thead>\n",
       "    <tr style=\"text-align: right;\">\n",
       "      <th></th>\n",
       "      <th>0</th>\n",
       "      <th>1</th>\n",
       "      <th>3</th>\n",
       "    </tr>\n",
       "  </thead>\n",
       "  <tbody>\n",
       "    <tr>\n",
       "      <th>0</th>\n",
       "      <td>4.140625</td>\n",
       "      <td>33.8125</td>\n",
       "      <td>0</td>\n",
       "    </tr>\n",
       "    <tr>\n",
       "      <th>1</th>\n",
       "      <td>0.640625</td>\n",
       "      <td>30.8125</td>\n",
       "      <td>0</td>\n",
       "    </tr>\n",
       "    <tr>\n",
       "      <th>2</th>\n",
       "      <td>2.140625</td>\n",
       "      <td>47.8125</td>\n",
       "      <td>0</td>\n",
       "    </tr>\n",
       "    <tr>\n",
       "      <th>3</th>\n",
       "      <td>8.890625</td>\n",
       "      <td>7.3125</td>\n",
       "      <td>1</td>\n",
       "    </tr>\n",
       "    <tr>\n",
       "      <th>4</th>\n",
       "      <td>2.890625</td>\n",
       "      <td>17.3125</td>\n",
       "      <td>0</td>\n",
       "    </tr>\n",
       "    <tr>\n",
       "      <th>5</th>\n",
       "      <td>27.640625</td>\n",
       "      <td>2.8125</td>\n",
       "      <td>1</td>\n",
       "    </tr>\n",
       "    <tr>\n",
       "      <th>6</th>\n",
       "      <td>73.890625</td>\n",
       "      <td>9.3125</td>\n",
       "      <td>1</td>\n",
       "    </tr>\n",
       "    <tr>\n",
       "      <th>7</th>\n",
       "      <td>33.390625</td>\n",
       "      <td>0.3125</td>\n",
       "      <td>1</td>\n",
       "    </tr>\n",
       "    <tr>\n",
       "      <th>8</th>\n",
       "      <td>5.890625</td>\n",
       "      <td>59.3125</td>\n",
       "      <td>0</td>\n",
       "    </tr>\n",
       "    <tr>\n",
       "      <th>9</th>\n",
       "      <td>2.390625</td>\n",
       "      <td>48.3125</td>\n",
       "      <td>0</td>\n",
       "    </tr>\n",
       "    <tr>\n",
       "      <th>10</th>\n",
       "      <td>2.640625</td>\n",
       "      <td>16.8125</td>\n",
       "      <td>0</td>\n",
       "    </tr>\n",
       "    <tr>\n",
       "      <th>11</th>\n",
       "      <td>7.140625</td>\n",
       "      <td>21.8125</td>\n",
       "      <td>0</td>\n",
       "    </tr>\n",
       "  </tbody>\n",
       "</table>\n",
       "</div>"
      ],
      "text/plain": [
       "            0        1  3\n",
       "0    4.140625  33.8125  0\n",
       "1    0.640625  30.8125  0\n",
       "2    2.140625  47.8125  0\n",
       "3    8.890625   7.3125  1\n",
       "4    2.890625  17.3125  0\n",
       "5   27.640625   2.8125  1\n",
       "6   73.890625   9.3125  1\n",
       "7   33.390625   0.3125  1\n",
       "8    5.890625  59.3125  0\n",
       "9    2.390625  48.3125  0\n",
       "10   2.640625  16.8125  0\n",
       "11   7.140625  21.8125  0"
      ]
     },
     "execution_count": 20,
     "metadata": {},
     "output_type": "execute_result"
    }
   ],
   "source": [
    "res"
   ]
  },
  {
   "cell_type": "code",
   "execution_count": 21,
   "metadata": {},
   "outputs": [
    {
     "data": {
      "text/plain": [
       "47.625"
      ]
     },
     "execution_count": 21,
     "metadata": {},
     "output_type": "execute_result"
    }
   ],
   "source": [
    "res[res[3]==0][0].sum() + res[res[3]==1][1].sum()"
   ]
  },
  {
   "cell_type": "code",
   "execution_count": 22,
   "metadata": {},
   "outputs": [
    {
     "data": {
      "image/png": "[encoded data removed]",
      "text/plain": [
       "<Figure size 432x288 with 1 Axes>"
      ]
     },
     "metadata": {},
     "output_type": "display_data"
    }
   ],
   "source": [
    "k0 = X[res[res[3] == 0].index]\n",
    "k1 = X[res[res[3] == 1].index]\n",
    "\n",
    "plt.scatter(X[:, 0], X[:, 1], s=100)\n",
    "\n",
    "plt.scatter( k0[:,0], k0[:,1], c=\"r\", alpha=0.3, s=400)\n",
    "plt.scatter( k1[:,0], k1[:,1], c=\"g\", alpha=0.3, s=400)\n",
    "\n",
    "plt.scatter( np.mean(k0[:,0]), np.mean( k0[:,1]), c='r')\n",
    "plt.scatter( np.mean(k1[:,0]), np.mean( k1[:,1]), c='g')\n",
    "plt.show()"
   ]
  },
  {
   "cell_type": "code",
   "execution_count": 23,
   "metadata": {
    "scrolled": false
   },
   "outputs": [
    {
     "data": {
      "text/plain": [
       "(5.625, 6.5)"
      ]
     },
     "execution_count": 23,
     "metadata": {},
     "output_type": "execute_result"
    }
   ],
   "source": [
    "np.mean(k0[:,0]), np.mean( k0[:,1])"
   ]
  },
  {
   "cell_type": "code",
   "execution_count": 24,
   "metadata": {
    "scrolled": true
   },
   "outputs": [
    {
     "data": {
      "text/plain": [
       "(1.75, 2.5)"
      ]
     },
     "execution_count": 24,
     "metadata": {},
     "output_type": "execute_result"
    }
   ],
   "source": [
    "np.mean(k1[:,0]), np.mean( k1[:,1])"
   ]
  },
  {
   "cell_type": "code",
   "execution_count": null,
   "metadata": {},
   "outputs": [],
   "source": []
  },
  {
   "cell_type": "markdown",
   "metadata": {},
   "source": [
    "### k-manes ++"
   ]
  },
  {
   "cell_type": "markdown",
   "metadata": {},
   "source": [
    "1. 랜덤하게 x를 선택하여 centroid로 지정 집합 m에 저장한다\n",
    "2. 2 ~ k 개의 centrioid 구할차례\n",
    "3. $ \\dfrac{ d(x, u)}{ \\sum d({x, u})}$ 를 이용하여 각 확률을 부여한다.\n",
    "    - d(x, u)는 각 centroid와의 거리의 최소값이다."
   ]
  },
  {
   "cell_type": "code",
   "execution_count": 25,
   "metadata": {},
   "outputs": [
    {
     "data": {
      "image/png": "[encoded data removed]",
      "text/plain": [
       "<Figure size 432x288 with 1 Axes>"
      ]
     },
     "metadata": {},
     "output_type": "display_data"
    }
   ],
   "source": [
    "X = np.array([[7, 5], [5, 7], [7, 7], [4, 4], [4, 6], [1, 4],\n",
    "              [0, 0], [2, 2], [8, 7], [6, 8], [5, 5], [3, 7]])\n",
    "\n",
    "plt.scatter(X[:, 0], X[:, 1], s=100)\n",
    "plt.show()"
   ]
  },
  {
   "cell_type": "markdown",
   "metadata": {},
   "source": [
    "### 맨처음은 랜덤으로 아무거나 선택"
   ]
  },
  {
   "cell_type": "code",
   "execution_count": 26,
   "metadata": {},
   "outputs": [],
   "source": [
    "M = np.array([[7,5]])"
   ]
  },
  {
   "cell_type": "code",
   "execution_count": 27,
   "metadata": {},
   "outputs": [],
   "source": [
    "sumd = 0\n",
    "row = []\n",
    "for i in X:\n",
    "    d = np.linalg.norm(i - M[0])**2\n",
    "    sumd += d\n",
    "    row.append([i, d])\n",
    "\n",
    "df = pd.DataFrame(row)\n",
    "df['r1'] = df[1] / sumd"
   ]
  },
  {
   "cell_type": "code",
   "execution_count": 28,
   "metadata": {},
   "outputs": [
    {
     "data": {
      "text/html": [
       "<div>\n",
       "<style scoped>\n",
       "    .dataframe tbody tr th:only-of-type {\n",
       "        vertical-align: middle;\n",
       "    }\n",
       "\n",
       "    .dataframe tbody tr th {\n",
       "        vertical-align: top;\n",
       "    }\n",
       "\n",
       "    .dataframe thead th {\n",
       "        text-align: right;\n",
       "    }\n",
       "</style>\n",
       "<table border=\"1\" class=\"dataframe\">\n",
       "  <thead>\n",
       "    <tr style=\"text-align: right;\">\n",
       "      <th></th>\n",
       "      <th>0</th>\n",
       "      <th>1</th>\n",
       "      <th>r1</th>\n",
       "    </tr>\n",
       "  </thead>\n",
       "  <tbody>\n",
       "    <tr>\n",
       "      <th>0</th>\n",
       "      <td>[7, 5]</td>\n",
       "      <td>0.0</td>\n",
       "      <td>0.000000</td>\n",
       "    </tr>\n",
       "    <tr>\n",
       "      <th>1</th>\n",
       "      <td>[5, 7]</td>\n",
       "      <td>8.0</td>\n",
       "      <td>0.037037</td>\n",
       "    </tr>\n",
       "    <tr>\n",
       "      <th>2</th>\n",
       "      <td>[7, 7]</td>\n",
       "      <td>4.0</td>\n",
       "      <td>0.018519</td>\n",
       "    </tr>\n",
       "    <tr>\n",
       "      <th>3</th>\n",
       "      <td>[4, 4]</td>\n",
       "      <td>10.0</td>\n",
       "      <td>0.046296</td>\n",
       "    </tr>\n",
       "    <tr>\n",
       "      <th>4</th>\n",
       "      <td>[4, 6]</td>\n",
       "      <td>10.0</td>\n",
       "      <td>0.046296</td>\n",
       "    </tr>\n",
       "    <tr>\n",
       "      <th>5</th>\n",
       "      <td>[1, 4]</td>\n",
       "      <td>37.0</td>\n",
       "      <td>0.171296</td>\n",
       "    </tr>\n",
       "    <tr>\n",
       "      <th>6</th>\n",
       "      <td>[0, 0]</td>\n",
       "      <td>74.0</td>\n",
       "      <td>0.342593</td>\n",
       "    </tr>\n",
       "    <tr>\n",
       "      <th>7</th>\n",
       "      <td>[2, 2]</td>\n",
       "      <td>34.0</td>\n",
       "      <td>0.157407</td>\n",
       "    </tr>\n",
       "    <tr>\n",
       "      <th>8</th>\n",
       "      <td>[8, 7]</td>\n",
       "      <td>5.0</td>\n",
       "      <td>0.023148</td>\n",
       "    </tr>\n",
       "    <tr>\n",
       "      <th>9</th>\n",
       "      <td>[6, 8]</td>\n",
       "      <td>10.0</td>\n",
       "      <td>0.046296</td>\n",
       "    </tr>\n",
       "    <tr>\n",
       "      <th>10</th>\n",
       "      <td>[5, 5]</td>\n",
       "      <td>4.0</td>\n",
       "      <td>0.018519</td>\n",
       "    </tr>\n",
       "    <tr>\n",
       "      <th>11</th>\n",
       "      <td>[3, 7]</td>\n",
       "      <td>20.0</td>\n",
       "      <td>0.092593</td>\n",
       "    </tr>\n",
       "  </tbody>\n",
       "</table>\n",
       "</div>"
      ],
      "text/plain": [
       "         0     1        r1\n",
       "0   [7, 5]   0.0  0.000000\n",
       "1   [5, 7]   8.0  0.037037\n",
       "2   [7, 7]   4.0  0.018519\n",
       "3   [4, 4]  10.0  0.046296\n",
       "4   [4, 6]  10.0  0.046296\n",
       "5   [1, 4]  37.0  0.171296\n",
       "6   [0, 0]  74.0  0.342593\n",
       "7   [2, 2]  34.0  0.157407\n",
       "8   [8, 7]   5.0  0.023148\n",
       "9   [6, 8]  10.0  0.046296\n",
       "10  [5, 5]   4.0  0.018519\n",
       "11  [3, 7]  20.0  0.092593"
      ]
     },
     "execution_count": 28,
     "metadata": {},
     "output_type": "execute_result"
    }
   ],
   "source": [
    "df"
   ]
  },
  {
   "cell_type": "code",
   "execution_count": 29,
   "metadata": {},
   "outputs": [
    {
     "name": "stdout",
     "output_type": "stream",
     "text": [
      "[11]\n",
      "[6]\n",
      "[11]\n",
      "[6]\n",
      "[7]\n"
     ]
    }
   ],
   "source": [
    "for _ in range(5):\n",
    "    idx = np.random.choice(range(12), 1, p=df['r1'])\n",
    "    print(idx)"
   ]
  },
  {
   "cell_type": "code",
   "execution_count": 30,
   "metadata": {},
   "outputs": [
    {
     "data": {
      "image/png": "[encoded data removed]",
      "text/plain": [
       "<Figure size 432x288 with 1 Axes>"
      ]
     },
     "metadata": {},
     "output_type": "display_data"
    }
   ],
   "source": [
    "X = np.array([[7, 5], [5, 7], [7, 7], [4, 4], [4, 6], [1, 4],\n",
    "              [0, 0], [2, 2], [8, 7], [6, 8], [5, 5], [3, 7]])\n",
    "\n",
    "plt.scatter(X[:, 0], X[:, 1], s=100)\n",
    "\n",
    "plt.scatter(x=7, y=5, s=500, c='g', alpha=0.5)\n",
    "\n",
    "for i in range(len(df)):\n",
    "\n",
    "    x = df.iloc[i][0][0]\n",
    "    y = df.iloc[i][0][1]\n",
    "    prob = df.iloc[i]['r1'] *2\n",
    "    \n",
    "    plt.scatter(x, y, s=500, c='r', alpha=prob)\n",
    "\n",
    "plt.show()"
   ]
  },
  {
   "cell_type": "code",
   "execution_count": 31,
   "metadata": {},
   "outputs": [],
   "source": [
    "M = np.array([[7,5], [0, 0]])"
   ]
  },
  {
   "cell_type": "code",
   "execution_count": 32,
   "metadata": {},
   "outputs": [
    {
     "data": {
      "text/html": [
       "<div>\n",
       "<style scoped>\n",
       "    .dataframe tbody tr th:only-of-type {\n",
       "        vertical-align: middle;\n",
       "    }\n",
       "\n",
       "    .dataframe tbody tr th {\n",
       "        vertical-align: top;\n",
       "    }\n",
       "\n",
       "    .dataframe thead th {\n",
       "        text-align: right;\n",
       "    }\n",
       "</style>\n",
       "<table border=\"1\" class=\"dataframe\">\n",
       "  <thead>\n",
       "    <tr style=\"text-align: right;\">\n",
       "      <th></th>\n",
       "      <th>0</th>\n",
       "      <th>1</th>\n",
       "      <th>r1</th>\n",
       "    </tr>\n",
       "  </thead>\n",
       "  <tbody>\n",
       "    <tr>\n",
       "      <th>0</th>\n",
       "      <td>[7, 5]</td>\n",
       "      <td>0.0</td>\n",
       "      <td>0.000000</td>\n",
       "    </tr>\n",
       "    <tr>\n",
       "      <th>1</th>\n",
       "      <td>[5, 7]</td>\n",
       "      <td>8.0</td>\n",
       "      <td>0.083333</td>\n",
       "    </tr>\n",
       "    <tr>\n",
       "      <th>2</th>\n",
       "      <td>[7, 7]</td>\n",
       "      <td>4.0</td>\n",
       "      <td>0.041667</td>\n",
       "    </tr>\n",
       "    <tr>\n",
       "      <th>3</th>\n",
       "      <td>[4, 4]</td>\n",
       "      <td>10.0</td>\n",
       "      <td>0.104167</td>\n",
       "    </tr>\n",
       "    <tr>\n",
       "      <th>4</th>\n",
       "      <td>[4, 6]</td>\n",
       "      <td>10.0</td>\n",
       "      <td>0.104167</td>\n",
       "    </tr>\n",
       "    <tr>\n",
       "      <th>5</th>\n",
       "      <td>[1, 4]</td>\n",
       "      <td>17.0</td>\n",
       "      <td>0.177083</td>\n",
       "    </tr>\n",
       "    <tr>\n",
       "      <th>6</th>\n",
       "      <td>[0, 0]</td>\n",
       "      <td>0.0</td>\n",
       "      <td>0.000000</td>\n",
       "    </tr>\n",
       "    <tr>\n",
       "      <th>7</th>\n",
       "      <td>[2, 2]</td>\n",
       "      <td>8.0</td>\n",
       "      <td>0.083333</td>\n",
       "    </tr>\n",
       "    <tr>\n",
       "      <th>8</th>\n",
       "      <td>[8, 7]</td>\n",
       "      <td>5.0</td>\n",
       "      <td>0.052083</td>\n",
       "    </tr>\n",
       "    <tr>\n",
       "      <th>9</th>\n",
       "      <td>[6, 8]</td>\n",
       "      <td>10.0</td>\n",
       "      <td>0.104167</td>\n",
       "    </tr>\n",
       "    <tr>\n",
       "      <th>10</th>\n",
       "      <td>[5, 5]</td>\n",
       "      <td>4.0</td>\n",
       "      <td>0.041667</td>\n",
       "    </tr>\n",
       "    <tr>\n",
       "      <th>11</th>\n",
       "      <td>[3, 7]</td>\n",
       "      <td>20.0</td>\n",
       "      <td>0.208333</td>\n",
       "    </tr>\n",
       "  </tbody>\n",
       "</table>\n",
       "</div>"
      ],
      "text/plain": [
       "         0     1        r1\n",
       "0   [7, 5]   0.0  0.000000\n",
       "1   [5, 7]   8.0  0.083333\n",
       "2   [7, 7]   4.0  0.041667\n",
       "3   [4, 4]  10.0  0.104167\n",
       "4   [4, 6]  10.0  0.104167\n",
       "5   [1, 4]  17.0  0.177083\n",
       "6   [0, 0]   0.0  0.000000\n",
       "7   [2, 2]   8.0  0.083333\n",
       "8   [8, 7]   5.0  0.052083\n",
       "9   [6, 8]  10.0  0.104167\n",
       "10  [5, 5]   4.0  0.041667\n",
       "11  [3, 7]  20.0  0.208333"
      ]
     },
     "execution_count": 32,
     "metadata": {},
     "output_type": "execute_result"
    }
   ],
   "source": [
    "sumd = 0\n",
    "row = []\n",
    "\n",
    "\n",
    "for i in X:\n",
    "    d_res = [] \n",
    "    for m in M: \n",
    "        \n",
    "        # 길이 구하기\n",
    "        d = np.linalg.norm(i - m)**2\n",
    "        d_res.append(d)\n",
    "    \n",
    "    # 가장 작은 길이를 기준으로 계산한다.\n",
    "    d_min = np.min(d_res) \n",
    "\n",
    "    sumd += d_min\n",
    "    row.append([i, d_min])\n",
    "    \n",
    "df = pd.DataFrame(row)\n",
    "df['r1'] = df[1] / sumd \n",
    "df"
   ]
  },
  {
   "cell_type": "code",
   "execution_count": 33,
   "metadata": {},
   "outputs": [
    {
     "name": "stdout",
     "output_type": "stream",
     "text": [
      "[11]\n",
      "[11]\n",
      "[11]\n",
      "[5]\n",
      "[11]\n"
     ]
    }
   ],
   "source": [
    "for _ in range(5):\n",
    "    idx = np.random.choice(range(12), 1, p=df['r1'])\n",
    "    print(idx)"
   ]
  },
  {
   "cell_type": "code",
   "execution_count": 207,
   "metadata": {},
   "outputs": [
    {
     "data": {
      "image/png": "[encoded data removed]",
      "text/plain": [
       "<Figure size 432x288 with 1 Axes>"
      ]
     },
     "metadata": {},
     "output_type": "display_data"
    }
   ],
   "source": [
    "X = np.array([[7, 5], [5, 7], [7, 7], [4, 4], [4, 6], [1, 4],\n",
    "              [0, 0], [2, 2], [8, 7], [6, 8], [5, 5], [3, 7]])\n",
    "\n",
    "plt.scatter(X[:, 0], X[:, 1], s=100)\n",
    "\n",
    "plt.scatter(x=7, y=5, s=500, c='g', alpha=0.5)\n",
    "plt.scatter(x=0, y=0, s=500, c='g', alpha=0.5)\n",
    "\n",
    "for i in range(len(df)):\n",
    "\n",
    "    x = df.iloc[i][0][0]\n",
    "    y = df.iloc[i][0][1]\n",
    "    prob = df.iloc[i]['r1'] * 2\n",
    "    \n",
    "    plt.scatter(x, y, s=500, c='r', alpha=prob)\n",
    "\n",
    "plt.show()"
   ]
  },
  {
   "cell_type": "code",
   "execution_count": null,
   "metadata": {},
   "outputs": [],
   "source": []
  },
  {
   "cell_type": "code",
   "execution_count": null,
   "metadata": {},
   "outputs": [],
   "source": []
  },
  {
   "cell_type": "code",
   "execution_count": null,
   "metadata": {},
   "outputs": [],
   "source": []
  },
  {
   "cell_type": "code",
   "execution_count": 208,
   "metadata": {},
   "outputs": [
    {
     "name": "stdout",
     "output_type": "stream",
     "text": [
      "x : (12, 2)\n"
     ]
    }
   ],
   "source": [
    "from sklearn.cluster import AffinityPropagation\n",
    "\n",
    "model = AffinityPropagation(preference=-50).fit(X)\n",
    "cluster_centers_indices = model.cluster_centers_indices_\n",
    "labels = model.labels_\n",
    "n_clusters_ = len(cluster_centers_indices)"
   ]
  },
  {
   "cell_type": "code",
   "execution_count": 209,
   "metadata": {},
   "outputs": [
    {
     "data": {
      "image/png": "[encoded data removed]",
      "text/plain": [
       "<Figure size 504x504 with 1 Axes>"
      ]
     },
     "metadata": {},
     "output_type": "display_data"
    }
   ],
   "source": [
    "from itertools import cycle\n",
    "plt.figure(figsize=(7,7)) \n",
    "colors = cycle('bgrcmykbgrcmykbgrcmykbgrcmyk')\n",
    "\n",
    "#plt.scatter(X[:, 0], X[:, 1], s=300, alpha=0.3)\n",
    "for k, col in zip(range(n_clusters_), colors):\n",
    "    class_members = labels == k\n",
    "    cluster_center = X[cluster_centers_indices[k]]\n",
    "    #plt.plot(X[class_members, 0], X[class_members, 1], col + '.',)\n",
    "    plt.scatter(X[class_members, 0], X[class_members, 1], c=col, s=200)\n",
    "    \n",
    "    for x in X[class_members]:\n",
    "        plt.plot([cluster_center[0], x[0]], [cluster_center[1], x[1]], col, alpha=0.25)\n",
    "    plt.plot(cluster_center[0], cluster_center[1], 'o', mec='k', mew=3, markersize=7) \n",
    "    \n",
    "plt.title('Estimated number of clusters: %d' % n_clusters_)\n",
    "plt.show()"
   ]
  },
  {
   "cell_type": "code",
   "execution_count": null,
   "metadata": {},
   "outputs": [],
   "source": []
  },
  {
   "cell_type": "code",
   "execution_count": null,
   "metadata": {},
   "outputs": [],
   "source": []
  },
  {
   "cell_type": "code",
   "execution_count": null,
   "metadata": {},
   "outputs": [],
   "source": []
  },
  {
   "cell_type": "code",
   "execution_count": 221,
   "metadata": {},
   "outputs": [],
   "source": [
    "matrix = []\n",
    "for x1 in X:\n",
    "    row = []\n",
    "    for x2 in X:\n",
    "        s = -np.linalg.norm(x1 - x2)**2\n",
    "        row.append(s)\n",
    "    matrix.append(row)\n",
    "    \n",
    "sdf = pd.DataFrame(matrix,\n",
    "                   index=[str(x) for x in X],\n",
    "                   columns=[str(x) for x in X])"
   ]
  },
  {
   "cell_type": "code",
   "execution_count": 222,
   "metadata": {},
   "outputs": [],
   "source": [
    "S = sdf.values.copy()\n",
    "n_samples = S.shape[0]\n",
    "S = sdf.values.copy()\n",
    "A = np.zeros((n_samples, n_samples))\n",
    "R = np.zeros((n_samples, n_samples)) \n",
    "E = np.zeros((n_samples, n_samples)) "
   ]
  },
  {
   "cell_type": "code",
   "execution_count": 223,
   "metadata": {},
   "outputs": [
    {
     "data": {
      "text/plain": [
       "(-120.00000000000001, -120.00000000000003)"
      ]
     },
     "execution_count": 223,
     "metadata": {},
     "output_type": "execute_result"
    }
   ],
   "source": [
    "med = np.median(S)\n",
    "S.flat[::(n_samples)+1] = med\n",
    "np.trace(S), med * n_samples"
   ]
  },
  {
   "cell_type": "code",
   "execution_count": 224,
   "metadata": {
    "scrolled": false
   },
   "outputs": [
    {
     "name": "stdout",
     "output_type": "stream",
     "text": [
      "3.0\n",
      "5.0\n",
      "9.0\n",
      "11.0\n",
      "2.0\n",
      "8.0\n",
      "8.0\n",
      "6.0\n",
      "3.0\n",
      "2.0\n",
      "5.0\n",
      "5.0\n"
     ]
    }
   ],
   "source": [
    "N = len(S)\n",
    "lam = 0.7\n",
    "max_iter = 200\n",
    "for m in range(max_iter):\n",
    "    for i in range(N):\n",
    "        for k in range(N):\n",
    "            tmax = -1e100\n",
    "            for kk in range(k): \n",
    "                uv = S[i, kk] + A[i, kk]\n",
    "                if uv > tmax:\n",
    "                    tmax = uv\n",
    "\n",
    "            for kk in range(k+1, N):\n",
    "                uv = S[i, kk] + A[i, kk]\n",
    "                if uv > tmax:\n",
    "                    tmax = uv\n",
    "\n",
    "            R[i, k] = (1-lam) * S[i, k] - tmax + lam * R[i, k]\n",
    "\n",
    "\n",
    "    for i in range(N): \n",
    "        for k in range(N):\n",
    "            if i == k:\n",
    "                tsum = 0\n",
    "\n",
    "                for ii in range(i):\n",
    "                    tsum += np.maximum(0.0, R[ii, k])\n",
    "\n",
    "                for ii in range(i+1, N): \n",
    "                    tsum += np.maximum(0.0, R[ii, k])\n",
    "\n",
    "                A[i, k] = (1-lam) * tsum + lam * A[i, k]\n",
    "            else:\n",
    "                tsum = 0\n",
    "                maxik = np.maximum(i, k)\n",
    "                minik = np.minimum(i, k) \n",
    "                \n",
    "                for ii in range(minik):\n",
    "                    tsum += np.maximum(0.0, R[ii, k])\n",
    "                    \n",
    "                for ii in range(minik + 1, maxik):\n",
    "                    tsum += np.maximum(0.0, R[ii, k])\n",
    "                    \n",
    "                for ii in range(maxik + 1, N):\n",
    "                    tsum += np.maximum(0.0, R[ii, k])\n",
    "                \n",
    "                \n",
    "                A[i, k] = (1-lam) * np.minimum(0, R[k,k] + tsum) + lam * A[i,k]\n",
    "        \n",
    "\n",
    "center = []\n",
    "for i in range(N):\n",
    "    E[i, i] = R[i,i] + A[i, i] \n",
    "    if E[i,i] > 0:\n",
    "        center.append(i)\n",
    "\n",
    "idx = np.zeros(N)\n",
    "for i in range(N):\n",
    "    idxForI = 0\n",
    "    maxSim = -1e100\n",
    "    \n",
    "    for j in range(len(center)):\n",
    "        \n",
    "        c = center[j]\n",
    "        if S[i, c] > maxSim:\n",
    "            maxSim = S[i, c]\n",
    "            idxForI = c\n",
    "    \n",
    "    idx[i] = idxForI\n",
    "\n",
    "    \n",
    "for i in range(N):\n",
    "    print(idx[i] + 1)"
   ]
  },
  {
   "cell_type": "code",
   "execution_count": 225,
   "metadata": {},
   "outputs": [
    {
     "data": {
      "image/png": "[encoded data removed]",
      "text/plain": [
       "<Figure size 504x504 with 1 Axes>"
      ]
     },
     "metadata": {},
     "output_type": "display_data"
    }
   ],
   "source": [
    "plt.figure(figsize=(7,7)) \n",
    "plt.scatter(X[:, 0], X[:, 1], s=100)\n",
    "\n",
    "\n",
    "for i, p in enumerate(X):\n",
    "    x1 = p[0]\n",
    "    y1 = p[1] \n",
    "    x2 = X[int(idx[i])][0]\n",
    "    y2 = X[int(idx[i])][1]\n",
    "\n",
    "    \n",
    "    plt.plot([x2, x1], [y2, y1],  alpha=0.25)\n",
    "\n",
    "plt.show()"
   ]
  },
  {
   "cell_type": "code",
   "execution_count": null,
   "metadata": {},
   "outputs": [],
   "source": []
  },
  {
   "cell_type": "code",
   "execution_count": null,
   "metadata": {},
   "outputs": [],
   "source": []
  },
  {
   "cell_type": "code",
   "execution_count": null,
   "metadata": {},
   "outputs": [],
   "source": []
  },
  {
   "cell_type": "code",
   "execution_count": null,
   "metadata": {},
   "outputs": [],
   "source": []
  },
  {
   "cell_type": "code",
   "execution_count": null,
   "metadata": {},
   "outputs": [],
   "source": []
  },
  {
   "cell_type": "code",
   "execution_count": null,
   "metadata": {},
   "outputs": [],
   "source": []
  },
  {
   "cell_type": "code",
   "execution_count": 171,
   "metadata": {},
   "outputs": [],
   "source": [
    "X = np.array([\n",
    "[-2.341500, 3.696800],\n",
    "[-1.109200, 3.111700],\n",
    "[-1.566900, 1.835100],\n",
    "[-2.658500, 0.664900],\n",
    "[-4.031700, 2.845700],\n",
    "[-3.081000, 2.101100],\n",
    "[2.588000, 1.781900],\n",
    "[3.292300, 3.058500],\n",
    "[4.031700, 1.622300],\n",
    "[3.081000, -0.611700],\n",
    "[0.264100, 0.398900],\n",
    "[1.320400, 2.207400],\n",
    "[0.193700, 3.643600],\n",
    "[1.954200, -0.505300],\n",
    "[1.637300, 1.409600],\n",
    "[-0.123200, -1.516000],\n",
    "[-1.355600, -3.058500],\n",
    "[0.017600, -4.016000],\n",
    "[1.003500, -3.590400],\n",
    "[0.017600, -2.420200],\n",
    "[-1.531700, -0.930900],\n",
    "[-1.144400, 0.505300],\n",
    "[0.616200, -1.516000],\n",
    "[1.707700, -2.207400],\n",
    "[2.095100, 3.430900]])"
   ]
  },
  {
   "cell_type": "code",
   "execution_count": 183,
   "metadata": {},
   "outputs": [
    {
     "name": "stdout",
     "output_type": "stream",
     "text": [
      "x : (25, 2)\n"
     ]
    },
    {
     "data": {
      "image/png": "[encoded data removed]",
      "text/plain": [
       "<Figure size 504x504 with 1 Axes>"
      ]
     },
     "metadata": {},
     "output_type": "display_data"
    }
   ],
   "source": [
    "from sklearn.cluster import AffinityPropagation\n",
    "\n",
    "model = AffinityPropagation(preference=-50).fit(X)\n",
    "cluster_centers_indices = model.cluster_centers_indices_\n",
    "labels = model.labels_\n",
    "n_clusters_ = len(cluster_centers_indices)\n",
    "\n",
    "from itertools import cycle\n",
    "plt.figure(figsize=(7,7)) \n",
    "colors = cycle('bgrcmykbgrcmykbgrcmykbgrcmyk')\n",
    "\n",
    "#plt.scatter(X[:, 0], X[:, 1], s=300, alpha=0.3)\n",
    "for k, col in zip(range(n_clusters_), colors):\n",
    "    class_members = labels == k\n",
    "    cluster_center = X[cluster_centers_indices[k]]\n",
    "    #plt.plot(X[class_members, 0], X[class_members, 1], col + '.',)\n",
    "    plt.scatter(X[class_members, 0], X[class_members, 1], c=col, s=200)\n",
    "    \n",
    "    for x in X[class_members]:\n",
    "        plt.plot([cluster_center[0], x[0]], [cluster_center[1], x[1]], col, alpha=0.25)\n",
    "    plt.plot(cluster_center[0], cluster_center[1], 'o', mec='k', mew=3, markersize=7) \n",
    "    \n",
    "plt.title('Estimated number of clusters: %d' % n_clusters_)\n",
    "plt.show()"
   ]
  },
  {
   "cell_type": "code",
   "execution_count": null,
   "metadata": {},
   "outputs": [],
   "source": []
  },
  {
   "cell_type": "code",
   "execution_count": null,
   "metadata": {},
   "outputs": [],
   "source": []
  },
  {
   "cell_type": "code",
   "execution_count": null,
   "metadata": {},
   "outputs": [],
   "source": []
  },
  {
   "cell_type": "code",
   "execution_count": null,
   "metadata": {},
   "outputs": [],
   "source": []
  },
  {
   "cell_type": "code",
   "execution_count": null,
   "metadata": {},
   "outputs": [],
   "source": []
  },
  {
   "cell_type": "code",
   "execution_count": null,
   "metadata": {},
   "outputs": [],
   "source": []
  },
  {
   "cell_type": "code",
   "execution_count": null,
   "metadata": {},
   "outputs": [],
   "source": []
  },
  {
   "cell_type": "code",
   "execution_count": null,
   "metadata": {},
   "outputs": [],
   "source": []
  },
  {
   "cell_type": "code",
   "execution_count": null,
   "metadata": {},
   "outputs": [],
   "source": []
  },
  {
   "cell_type": "code",
   "execution_count": 170,
   "metadata": {},
   "outputs": [],
   "source": [
    "from sklearn.metrics import silhouette_score"
   ]
  },
  {
   "cell_type": "code",
   "execution_count": 164,
   "metadata": {},
   "outputs": [],
   "source": [
    "from sklearn.metrics.cluster import adjusted_rand_score\n",
    "from sklearn.metrics.cluster import adjusted_mutual_info_score\n",
    "from sklearn.metrics.cluster import homogeneity_score\n",
    "from sklearn.metrics.cluster import completeness_score\n",
    "from sklearn.metrics.cluster import v_measure_score"
   ]
  },
  {
   "cell_type": "markdown",
   "metadata": {},
   "source": [
    "|   |Y_1|Y_2|Y_3|Row sums|\n",
    "|---|---|---|---|---|\n",
    "|X_1| 3 | 0 | 1 | 4 |\n",
    "|X_2| 1 | 2 | 1 | 4 |\n",
    "|X_3| 0 | 2 | 2 | 4 | \n",
    "|Column sums | 4 | 4 | 4| \t"
   ]
  },
  {
   "cell_type": "code",
   "execution_count": 161,
   "metadata": {},
   "outputs": [],
   "source": [
    "a1 = np.array([1, 2, 3, 3, 2, 1, 1, 3, 3, 1, 2, 2])\n",
    "a2 = np.array([3, 2, 3, 2, 2, 1, 1, 2, 3, 1, 3, 1])"
   ]
  },
  {
   "cell_type": "code",
   "execution_count": 162,
   "metadata": {},
   "outputs": [
    {
     "data": {
      "text/plain": [
       "0.08333333333333333"
      ]
     },
     "execution_count": 162,
     "metadata": {},
     "output_type": "execute_result"
    }
   ],
   "source": [
    "adjusted_rand_score(a1, a2)"
   ]
  },
  {
   "cell_type": "code",
   "execution_count": 163,
   "metadata": {},
   "outputs": [
    {
     "data": {
      "text/plain": [
       "0.11575305380508193"
      ]
     },
     "execution_count": 163,
     "metadata": {},
     "output_type": "execute_result"
    }
   ],
   "source": [
    "adjusted_mutual_info_score(a1, a2)"
   ]
  },
  {
   "cell_type": "code",
   "execution_count": 165,
   "metadata": {},
   "outputs": [
    {
     "data": {
      "text/plain": [
       "0.303605369642814"
      ]
     },
     "execution_count": 165,
     "metadata": {},
     "output_type": "execute_result"
    }
   ],
   "source": [
    "homogeneity_score(a1, a2)"
   ]
  },
  {
   "cell_type": "code",
   "execution_count": 166,
   "metadata": {},
   "outputs": [
    {
     "data": {
      "text/plain": [
       "0.303605369642814"
      ]
     },
     "execution_count": 166,
     "metadata": {},
     "output_type": "execute_result"
    }
   ],
   "source": [
    "completeness_score(a1, a2)"
   ]
  },
  {
   "cell_type": "code",
   "execution_count": 167,
   "metadata": {},
   "outputs": [
    {
     "data": {
      "text/plain": [
       "0.303605369642814"
      ]
     },
     "execution_count": 167,
     "metadata": {},
     "output_type": "execute_result"
    }
   ],
   "source": [
    "v_measure_score(a1, a2)"
   ]
  },
  {
   "cell_type": "code",
   "execution_count": null,
   "metadata": {},
   "outputs": [],
   "source": []
  },
  {
   "cell_type": "code",
   "execution_count": null,
   "metadata": {},
   "outputs": [],
   "source": []
  },
  {
   "cell_type": "code",
   "execution_count": null,
   "metadata": {},
   "outputs": [],
   "source": []
  },
  {
   "cell_type": "code",
   "execution_count": null,
   "metadata": {},
   "outputs": [],
   "source": []
  },
  {
   "cell_type": "code",
   "execution_count": 173,
   "metadata": {},
   "outputs": [],
   "source": [
    "def count(n):\n",
    "    if n > 0:\n",
    "        count(n-1)\n",
    "    print(n)"
   ]
  },
  {
   "cell_type": "code",
   "execution_count": 174,
   "metadata": {},
   "outputs": [
    {
     "name": "stdout",
     "output_type": "stream",
     "text": [
      "0\n",
      "1\n",
      "2\n",
      "3\n",
      "4\n",
      "5\n"
     ]
    }
   ],
   "source": [
    "count(5)"
   ]
  },
  {
   "cell_type": "code",
   "execution_count": null,
   "metadata": {},
   "outputs": [],
   "source": []
  }
 ],
 "metadata": {
  "kernelspec": {
   "display_name": "Python 3",
   "language": "python",
   "name": "python3"
  },
  "language_info": {
   "codemirror_mode": {
    "name": "ipython",
    "version": 3
   },
   "file_extension": ".py",
   "mimetype": "text/x-python",
   "name": "python",
   "nbconvert_exporter": "python",
   "pygments_lexer": "ipython3",
   "version": "3.6.5"
  }
 },
 "nbformat": 4,
 "nbformat_minor": 2
}
