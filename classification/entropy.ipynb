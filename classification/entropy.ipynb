{
 "cells": [
  {
   "cell_type": "code",
   "execution_count": 1,
   "metadata": {},
   "outputs": [],
   "source": [
    "%matplotlib inline"
   ]
  },
  {
   "cell_type": "code",
   "execution_count": 13,
   "metadata": {},
   "outputs": [
    {
     "name": "stderr",
     "output_type": "stream",
     "text": [
      "/usr/local/lib/python3.6/site-packages/ipykernel_launcher.py:2: RuntimeWarning: invalid value encountered in log2\n",
      "  \n"
     ]
    },
    {
     "data": {
      "text/plain": [
       "[<matplotlib.lines.Line2D at 0x118695c88>]"
      ]
     },
     "execution_count": 13,
     "metadata": {},
     "output_type": "execute_result"
    },
    {
     "data": {
      "image/png": "[encoded data removed]",
      "text/plain": [
       "<Figure size 432x288 with 1 Axes>"
      ]
     },
     "metadata": {},
     "output_type": "display_data"
    }
   ],
   "source": [
    "xx = np.linspace(-10, 10, 10)\n",
    "y = np.log2(xx)\n",
    "plt.plot(y)"
   ]
  },
  {
   "cell_type": "code",
   "execution_count": 14,
   "metadata": {},
   "outputs": [
    {
     "data": {
      "text/plain": [
       "<matplotlib.collections.PathCollection at 0x1188172b0>"
      ]
     },
     "execution_count": 14,
     "metadata": {},
     "output_type": "execute_result"
    },
    {
     "data": {
      "image/png": "[encoded data removed]",
      "text/plain": [
       "<Figure size 432x288 with 1 Axes>"
      ]
     },
     "metadata": {},
     "output_type": "display_data"
    }
   ],
   "source": [
    "plt.scatter(xx, y)"
   ]
  },
  {
   "cell_type": "code",
   "execution_count": null,
   "metadata": {},
   "outputs": [],
   "source": []
  },
  {
   "cell_type": "code",
   "execution_count": 15,
   "metadata": {},
   "outputs": [
    {
     "data": {
      "text/html": [
       "<div>\n",
       "<style scoped>\n",
       "    .dataframe tbody tr th:only-of-type {\n",
       "        vertical-align: middle;\n",
       "    }\n",
       "\n",
       "    .dataframe tbody tr th {\n",
       "        vertical-align: top;\n",
       "    }\n",
       "\n",
       "    .dataframe thead th {\n",
       "        text-align: right;\n",
       "    }\n",
       "</style>\n",
       "<table border=\"1\" class=\"dataframe\">\n",
       "  <thead>\n",
       "    <tr style=\"text-align: right;\">\n",
       "      <th></th>\n",
       "      <th>0</th>\n",
       "      <th>1</th>\n",
       "    </tr>\n",
       "  </thead>\n",
       "  <tbody>\n",
       "    <tr>\n",
       "      <th>0</th>\n",
       "      <td>-10.000000</td>\n",
       "      <td>NaN</td>\n",
       "    </tr>\n",
       "    <tr>\n",
       "      <th>1</th>\n",
       "      <td>-7.777778</td>\n",
       "      <td>NaN</td>\n",
       "    </tr>\n",
       "    <tr>\n",
       "      <th>2</th>\n",
       "      <td>-5.555556</td>\n",
       "      <td>NaN</td>\n",
       "    </tr>\n",
       "    <tr>\n",
       "      <th>3</th>\n",
       "      <td>-3.333333</td>\n",
       "      <td>NaN</td>\n",
       "    </tr>\n",
       "    <tr>\n",
       "      <th>4</th>\n",
       "      <td>-1.111111</td>\n",
       "      <td>NaN</td>\n",
       "    </tr>\n",
       "    <tr>\n",
       "      <th>5</th>\n",
       "      <td>1.111111</td>\n",
       "      <td>0.152003</td>\n",
       "    </tr>\n",
       "    <tr>\n",
       "      <th>6</th>\n",
       "      <td>3.333333</td>\n",
       "      <td>1.736966</td>\n",
       "    </tr>\n",
       "    <tr>\n",
       "      <th>7</th>\n",
       "      <td>5.555556</td>\n",
       "      <td>2.473931</td>\n",
       "    </tr>\n",
       "    <tr>\n",
       "      <th>8</th>\n",
       "      <td>7.777778</td>\n",
       "      <td>2.959358</td>\n",
       "    </tr>\n",
       "    <tr>\n",
       "      <th>9</th>\n",
       "      <td>10.000000</td>\n",
       "      <td>3.321928</td>\n",
       "    </tr>\n",
       "  </tbody>\n",
       "</table>\n",
       "</div>"
      ],
      "text/plain": [
       "           0         1\n",
       "0 -10.000000       NaN\n",
       "1  -7.777778       NaN\n",
       "2  -5.555556       NaN\n",
       "3  -3.333333       NaN\n",
       "4  -1.111111       NaN\n",
       "5   1.111111  0.152003\n",
       "6   3.333333  1.736966\n",
       "7   5.555556  2.473931\n",
       "8   7.777778  2.959358\n",
       "9  10.000000  3.321928"
      ]
     },
     "execution_count": 15,
     "metadata": {},
     "output_type": "execute_result"
    }
   ],
   "source": [
    "pd.DataFrame([xx, y]).T"
   ]
  },
  {
   "cell_type": "code",
   "execution_count": null,
   "metadata": {},
   "outputs": [],
   "source": []
  },
  {
   "cell_type": "markdown",
   "metadata": {},
   "source": [
    "정보량은 p_i가 작아질수록 커지며, p_i가 1에 가까울수록 0으로 수렴한다. 어떠한 기호가 나타날 확률이 아주 낮다면, 이 기호가 나타난다는 것을 알기위해서는 많은 정보가 필요할 것이다. <br>\n",
    "그러나 어떠한 기호가 나타날 확률이 1에 수렴한다면, 적응 양의 정보만으로도 쉽게 유추할 수 있을 것이다."
   ]
  },
  {
   "cell_type": "code",
   "execution_count": 29,
   "metadata": {},
   "outputs": [],
   "source": [
    "xx = np.linspace(2, 100, 200)"
   ]
  },
  {
   "cell_type": "code",
   "execution_count": 33,
   "metadata": {},
   "outputs": [
    {
     "data": {
      "text/plain": [
       "[<matplotlib.lines.Line2D at 0x118e7b5f8>]"
      ]
     },
     "execution_count": 33,
     "metadata": {},
     "output_type": "execute_result"
    },
    {
     "data": {
      "image/png": "[encoded data removed]",
      "text/plain": [
       "<Figure size 432x288 with 1 Axes>"
      ]
     },
     "metadata": {},
     "output_type": "display_data"
    }
   ],
   "source": [
    "p = (1/xx)\n",
    "plt.plot(-np.log2(p))"
   ]
  },
  {
   "cell_type": "code",
   "execution_count": null,
   "metadata": {},
   "outputs": [],
   "source": []
  },
  {
   "cell_type": "markdown",
   "metadata": {},
   "source": [
    "$$\n",
    "H = - \\sum^{N}_{i} P_i \\log_2 P_i\n",
    "$$"
   ]
  },
  {
   "cell_type": "markdown",
   "metadata": {},
   "source": [
    "엔트로피는 정보량의 기대값이라고 생각할수 있다.\n",
    "어떤 데이터를 표현하기 위한 평균 정보량을 의미한다. \n",
    "각각의 기호가 등장할 확률이 비슷해 질수록 증가하며, 등장할 확률이 모두 동일할 때 가장 크다."
   ]
  },
  {
   "cell_type": "code",
   "execution_count": 55,
   "metadata": {},
   "outputs": [
    {
     "data": {
      "image/png": "[encoded data removed]",
      "text/plain": [
       "<Figure size 432x288 with 1 Axes>"
      ]
     },
     "metadata": {},
     "output_type": "display_data"
    },
    {
     "data": {
      "text/plain": [
       "3.62294356323271"
      ]
     },
     "execution_count": 55,
     "metadata": {},
     "output_type": "execute_result"
    }
   ],
   "source": [
    "N = 100\n",
    "t = 0.1\n",
    "rv = sp.stats.binom(N, t)\n",
    "\n",
    "xx = np.arange(N+1)\n",
    "y = rv.pmf(xx)\n",
    "plt.bar(xx, y, align=\"center\") \n",
    "plt.show()\n",
    "\n",
    "h = - np.sum(y * np.log2(y))\n",
    "h"
   ]
  },
  {
   "cell_type": "code",
   "execution_count": 62,
   "metadata": {},
   "outputs": [
    {
     "name": "stderr",
     "output_type": "stream",
     "text": [
      "/usr/local/lib/python3.6/site-packages/ipykernel_launcher.py:10: RuntimeWarning: divide by zero encountered in log2\n",
      "  # Remove the CWD from sys.path while we load stuff.\n",
      "/usr/local/lib/python3.6/site-packages/ipykernel_launcher.py:10: RuntimeWarning: invalid value encountered in multiply\n",
      "  # Remove the CWD from sys.path while we load stuff.\n"
     ]
    }
   ],
   "source": [
    "hs = []\n",
    "for t in np.linspace(0, 1, 100):\n",
    "    N = 100\n",
    "    t = t\n",
    "    rv = sp.stats.binom(N, t)\n",
    "\n",
    "    xx = np.arange(N+1)\n",
    "    y = rv.pmf(xx) \n",
    "\n",
    "    h = - np.sum(y * np.log2(y))\n",
    "    hs.append(h)"
   ]
  },
  {
   "cell_type": "code",
   "execution_count": 63,
   "metadata": {},
   "outputs": [
    {
     "data": {
      "text/plain": [
       "[<matplotlib.lines.Line2D at 0x1196cf550>]"
      ]
     },
     "execution_count": 63,
     "metadata": {},
     "output_type": "execute_result"
    },
    {
     "data": {
      "image/png": "[encoded data removed]",
      "text/plain": [
       "<Figure size 432x288 with 1 Axes>"
      ]
     },
     "metadata": {},
     "output_type": "display_data"
    }
   ],
   "source": [
    "plt.plot(hs)"
   ]
  },
  {
   "cell_type": "code",
   "execution_count": 64,
   "metadata": {
    "scrolled": true
   },
   "outputs": [
    {
     "data": {
      "text/plain": [
       "[nan,\n",
       " 1.8872861123444442,\n",
       " 2.4575856457617156,\n",
       " 2.77656576535228,\n",
       " 2.992497216097986,\n",
       " 3.154409113334881,\n",
       " 3.2834215764091095,\n",
       " 3.390300409940206,\n",
       " 3.481233615660119,\n",
       " 3.560104814724633,\n",
       " 3.6295156493834035,\n",
       " 3.6912970428124314,\n",
       " 3.74678769032416,\n",
       " 3.7969965735661018,\n",
       " 3.8427032075412426,\n",
       " 3.8845223280756205,\n",
       " 3.9229472098806015,\n",
       " 3.958379587408052,\n",
       " 3.9911508727161857,\n",
       " 4.021537546322765,\n",
       " 4.049772543708677,\n",
       " 4.0760538268022595,\n",
       " 4.100550936514129,\n",
       " 4.123410071251509,\n",
       " 4.14475807194313,\n",
       " 4.164705584095155,\n",
       " 4.183349592317999,\n",
       " 4.200775470599888,\n",
       " 4.2170586547705025,\n",
       " 4.232266017204443,\n",
       " 4.246457004640803,\n",
       " 4.259684585894062,\n",
       " 4.271996045738247,\n",
       " 4.283433653354551,\n",
       " 4.294035227736787,\n",
       " 4.303834617851217,\n",
       " 4.312862111789641,\n",
       " 4.3211447863786745,\n",
       " 4.328706806524396,\n",
       " 4.335569681840674,\n",
       " 4.341752486726119,\n",
       " 4.347272048942035,\n",
       " 4.352143110839378,\n",
       " 4.3563784666451575,\n",
       " 4.359989078608315,\n",
       " 4.362984174297681,\n",
       " 4.3653713269166765,\n",
       " 4.367156520135075,\n",
       " 4.368344198622159,\n",
       " 4.368937305187656,\n",
       " 4.368937305187657,\n",
       " 4.36834419862216,\n",
       " 4.367156520135074,\n",
       " 4.365371326916678,\n",
       " 4.3629841742976865,\n",
       " 4.359989078608317,\n",
       " 4.356378466645133,\n",
       " 4.352143110839364,\n",
       " 4.347272048942028,\n",
       " 4.3417524867261115,\n",
       " 4.335569681840656,\n",
       " 4.3287068065244005,\n",
       " 4.321144786378676,\n",
       " 4.312862111789648,\n",
       " 4.303834617851211,\n",
       " 4.294035227736777,\n",
       " 4.28343365335454,\n",
       " 4.271996045738238,\n",
       " 4.259684585894054,\n",
       " 4.2464570046407895,\n",
       " 4.232266017204439,\n",
       " 4.2170586547705,\n",
       " 4.200775470599882,\n",
       " 4.183349592318015,\n",
       " 4.164705584095162,\n",
       " 4.144758071943133,\n",
       " 4.123410071251505,\n",
       " 4.10055093651413,\n",
       " 4.07605382680227,\n",
       " 4.049772543708665,\n",
       " 4.021537546322761,\n",
       " 3.9911508727161844,\n",
       " 3.9583795874080474,\n",
       " 3.922947209880604,\n",
       " 3.8845223280756187,\n",
       " 3.842703207541237,\n",
       " 3.796996573566098,\n",
       " 3.746787690324164,\n",
       " 3.691297042812423,\n",
       " 3.6295156493834027,\n",
       " 3.560104814724633,\n",
       " 3.4812336156601185,\n",
       " 3.390300409940202,\n",
       " 3.283421576409108,\n",
       " 3.1544091133348764,\n",
       " 2.992497216097984,\n",
       " 2.776565765352281,\n",
       " 2.457585645761711,\n",
       " 1.88728611234444,\n",
       " nan]"
      ]
     },
     "execution_count": 64,
     "metadata": {},
     "output_type": "execute_result"
    }
   ],
   "source": []
  },
  {
   "cell_type": "code",
   "execution_count": null,
   "metadata": {},
   "outputs": [],
   "source": []
  },
  {
   "cell_type": "code",
   "execution_count": null,
   "metadata": {},
   "outputs": [],
   "source": []
  },
  {
   "cell_type": "code",
   "execution_count": 65,
   "metadata": {
    "scrolled": true
   },
   "outputs": [
    {
     "data": {
      "text/plain": [
       "0.8112781244591328"
      ]
     },
     "execution_count": 65,
     "metadata": {},
     "output_type": "execute_result"
    }
   ],
   "source": [
    "-3/4 * np.log2(3/4) - 1/4 * np.log2(1/4)"
   ]
  },
  {
   "cell_type": "code",
   "execution_count": 66,
   "metadata": {},
   "outputs": [
    {
     "data": {
      "text/plain": [
       "0.8112781244591328"
      ]
     },
     "execution_count": 66,
     "metadata": {},
     "output_type": "execute_result"
    }
   ],
   "source": [
    "-1/4 * np.log2(1/4) - 3/4 * np.log2(3/4)"
   ]
  },
  {
   "cell_type": "code",
   "execution_count": null,
   "metadata": {},
   "outputs": [],
   "source": []
  },
  {
   "cell_type": "code",
   "execution_count": 71,
   "metadata": {},
   "outputs": [
    {
     "data": {
      "text/plain": [
       "0.9182958340544896"
      ]
     },
     "execution_count": 71,
     "metadata": {},
     "output_type": "execute_result"
    }
   ],
   "source": [
    "-2/6 * np.log2(2/6) -4/6 * np.log2(4/6)"
   ]
  },
  {
   "cell_type": "code",
   "execution_count": null,
   "metadata": {},
   "outputs": [],
   "source": []
  },
  {
   "cell_type": "code",
   "execution_count": null,
   "metadata": {},
   "outputs": [],
   "source": []
  },
  {
   "cell_type": "code",
   "execution_count": 73,
   "metadata": {},
   "outputs": [],
   "source": [
    "py = np.linspace(0, 1, 100)"
   ]
  },
  {
   "cell_type": "code",
   "execution_count": 77,
   "metadata": {
    "scrolled": true
   },
   "outputs": [
    {
     "name": "stderr",
     "output_type": "stream",
     "text": [
      "/usr/local/lib/python3.6/site-packages/ipykernel_launcher.py:1: RuntimeWarning: divide by zero encountered in true_divide\n",
      "  \"\"\"Entry point for launching an IPython kernel.\n",
      "/usr/local/lib/python3.6/site-packages/ipykernel_launcher.py:1: RuntimeWarning: divide by zero encountered in log2\n",
      "  \"\"\"Entry point for launching an IPython kernel.\n",
      "/usr/local/lib/python3.6/site-packages/ipykernel_launcher.py:1: RuntimeWarning: invalid value encountered in multiply\n",
      "  \"\"\"Entry point for launching an IPython kernel.\n"
     ]
    },
    {
     "data": {
      "text/plain": [
       "[<matplotlib.lines.Line2D at 0x1197bccc0>]"
      ]
     },
     "execution_count": 77,
     "metadata": {},
     "output_type": "execute_result"
    },
    {
     "data": {
      "image/png": "[encoded data removed]",
      "text/plain": [
       "<Figure size 432x288 with 1 Axes>"
      ]
     },
     "metadata": {},
     "output_type": "display_data"
    }
   ],
   "source": [
    "plt.plot(py * np.log2( py / (1-py)))"
   ]
  },
  {
   "cell_type": "code",
   "execution_count": null,
   "metadata": {},
   "outputs": [],
   "source": []
  },
  {
   "cell_type": "code",
   "execution_count": null,
   "metadata": {},
   "outputs": [],
   "source": []
  },
  {
   "cell_type": "code",
   "execution_count": null,
   "metadata": {},
   "outputs": [],
   "source": []
  },
  {
   "cell_type": "code",
   "execution_count": null,
   "metadata": {},
   "outputs": [],
   "source": []
  },
  {
   "cell_type": "code",
   "execution_count": 85,
   "metadata": {},
   "outputs": [
    {
     "data": {
      "text/plain": [
       "0.9350955324069011"
      ]
     },
     "execution_count": 85,
     "metadata": {},
     "output_type": "execute_result"
    }
   ],
   "source": [
    "(-5/7*np.log2(5/7) - 2/7*np.log2(2/7)) * 7/16 + (-4/9*np.log2(4/9) - 5/9*np.log2(5/9)) * 9/16"
   ]
  },
  {
   "cell_type": "code",
   "execution_count": null,
   "metadata": {},
   "outputs": [],
   "source": [
    "(-5/7*np.log2(5/7) - 2/7*np.log2(2/7)) * 7/16 + (-4/9*np.log2(4/9) - 5/9*np.log2(5/9)) * 9/16"
   ]
  }
 ],
 "metadata": {
  "kernelspec": {
   "display_name": "Python 3",
   "language": "python",
   "name": "python3"
  },
  "language_info": {
   "codemirror_mode": {
    "name": "ipython",
    "version": 3
   },
   "file_extension": ".py",
   "mimetype": "text/x-python",
   "name": "python",
   "nbconvert_exporter": "python",
   "pygments_lexer": "ipython3",
   "version": "3.6.5"
  }
 },
 "nbformat": 4,
 "nbformat_minor": 2
}
