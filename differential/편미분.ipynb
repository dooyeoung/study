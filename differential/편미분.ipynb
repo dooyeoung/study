{
 "cells": [
  {
   "cell_type": "markdown",
   "metadata": {},
   "source": [
    "## 편미분\n",
    "\n",
    "$\n",
    "f(x, y) = \\exp{(x^2 + 2y^2)}\n",
    "$"
   ]
  },
  {
   "cell_type": "markdown",
   "metadata": {},
   "source": [
    "### 1. 첫번째 x 미분\n",
    "> **연쇄 법칙**<br>\n",
    "$\n",
    "f = \\exp(z) \\;, \\; z = x^2 + 2y^2 \\\\\n",
    "\\dfrac{df}{dz}= \\exp(x^2 + 2y^2) \\;, \\;\n",
    "\\dfrac{dz}{dx}= 2x\\\\\n",
    "$\n",
    "\n",
    "$\n",
    "f_x(x,y) = \\dfrac{\\partial f}{\\partial x} =\n",
    "\\dfrac{df}{dz} \\cdot \\dfrac{dz}{dx} \\\\\n",
    "f_x(x,y) = \\dfrac{\\partial f}{\\partial x} =\n",
    "2x \\cdot \\exp(x^2 + 2y^2) \n",
    "$"
   ]
  },
  {
   "cell_type": "markdown",
   "metadata": {},
   "source": [
    "### 2. 첫번째 x 미분, 두번째 x 미분\n",
    "\n",
    "첫번째 x미분 결과 <br>\n",
    "$ f_x(x,y) = \\dfrac{\\partial f}{\\partial x} =\n",
    "2x \\cdot \\exp(x^2 + 2y^2) \n",
    "$\n",
    "<br>\n",
    "> **곱셈미분**<br>\n",
    "$\n",
    "\\dfrac{d}{dx}(f\\cdot g) = f'\\cdot g + f\\cdot g'\n",
    "$\n",
    "\n",
    "$\n",
    "f_{xx}(x,y) = \\dfrac{\\partial^2 f}{\\partial x^2} =\n",
    "\\dfrac{d}{dx}(\\exp(x^2 + 2y^2)) \\cdot 2x + \\exp(x^2 +2y^2)\\cdot \\dfrac{d}{dx}(2x) \\\\\n",
    "f_{xx}(x,y) = \\dfrac{\\partial^2 f}{\\partial x^2} =\n",
    "\\dfrac{d}{dx}(\\exp(x^2 +2y^2)) \\cdot 2x  + 2\\cdot \\exp(x^2 +2y^2)\\\\\n",
    "$\n",
    "<br>\n",
    "> **연쇄법칙** <br>\n",
    "$\n",
    "f = \\exp(z) \\;, \\; z = x^2 + 2y^2 \\\\\n",
    "\\dfrac{df}{dz}= \\exp(x^2 + 2y^2) \\;, \\;\n",
    "\\dfrac{dz}{dx}= 2x\\\\\n",
    "\\dfrac{df}{dz} \\cdot \\dfrac{dz}{dx} = 2x \\cdot exp(x^2 + 2y^2) \\\\\n",
    "$\n",
    "\n",
    "$\n",
    "f_{xx}(x,y) = \\dfrac{\\partial^2 f}{\\partial x^2} =\n",
    "2x \\cdot exp(x^2 + 2y^2) \\cdot 2x  + 2\\cdot \\exp(x^2 +2y^2)\\\\\n",
    "f_{xx}(x,y) = \\dfrac{\\partial^2 f}{\\partial x^2} =\n",
    "4x^2 \\cdot exp(x^2 + 2y^2) + 2\\cdot \\exp(x^2 +2y^2)\\\\\n",
    "f_{xx}(x,y) = \\dfrac{\\partial^2 f}{\\partial x^2} =\n",
    "2(2x^2 + 1) \\cdot \\exp(x^2 +2y^2)\\\\\n",
    "$"
   ]
  },
  {
   "cell_type": "markdown",
   "metadata": {},
   "source": [
    "### 3. 첫번째 x 미분, 두번째 y 미분\n",
    "\n",
    "첫번째 x 미분결과<br>\n",
    "$ f_x(x,y) = \\dfrac{\\partial f}{\\partial x} = 2x \\cdot exp(x^2 + 2y^2)  $\n",
    "<br>\n",
    "> **연쇄법칙** <br>\n",
    "$\n",
    "f = \\exp(z) \\;, \\; z = x^2 + 2y^2 \\\\\n",
    "\\dfrac{df}{dz}= \\exp(x^2 + 2y^2) \\;, \\;\n",
    "\\dfrac{dz}{dy}= 4y\\\\\n",
    "\\dfrac{df}{dz} \\cdot \\dfrac{dz}{dy} = 4y \\cdot \\exp(x^2 + 2y^2) \\\\\n",
    "$\n",
    "\n",
    "$\n",
    "f_{xy}(x,y)=\\dfrac{\\partial^2f}{\\partial y\\partial x} =\n",
    "2x \\cdot 4y \\cdot \\exp(x^2 + 2y^2) \\\\\n",
    "f_{xy}(x,y)=\\dfrac{\\partial^2f}{\\partial y\\partial x} =\n",
    "8xy \\cdot \\exp(x^2 + 2y^2) \n",
    "$"
   ]
  },
  {
   "cell_type": "markdown",
   "metadata": {},
   "source": [
    "### 4. 첫번째 y 미분\n",
    "\n",
    "> **연쇄법칙** <br>\n",
    "$\n",
    "f = \\exp(z) \\;, \\; z = x^2 + 2y^2 \\\\\n",
    "\\dfrac{df}{dz}= \\exp(x^2 + 2y^2) \\;, \\;\n",
    "\\dfrac{dz}{dy}= 4y\\\\\n",
    "\\dfrac{df}{dz} \\cdot \\dfrac{dz}{dy} = 4y \\cdot \\exp(x^2 + 2y^2) \\\\\n",
    "$\n",
    "\n",
    "$\n",
    "f_y(x,y) = \\dfrac{\\partial f}{\\partial y} =\n",
    "\\dfrac{df}{dz} \\cdot \\dfrac{dz}{dy} \\\\\n",
    "f_y(x,y) = \\dfrac{\\partial f}{\\partial y} =\n",
    "4y \\cdot \\exp(x^2 + 2y^2) \n",
    "$"
   ]
  },
  {
   "cell_type": "markdown",
   "metadata": {},
   "source": [
    "### 5. 첫번째 y 미분, 두번째 y 미분\n",
    "\n",
    "$\n",
    "f_y(x,y) = \\dfrac{\\partial f}{\\partial y} =\n",
    "4y \\cdot \\exp(x^2 + 2y^2)\n",
    "$\n",
    "<br>\n",
    "> **곱셈미분**<br>\n",
    "$\n",
    "\\dfrac{d}{dx}(f\\cdot g) = f'\\cdot g + f\\cdot g'\n",
    "$\n",
    "\n",
    "$\n",
    "f_{yy}(x,y) = \\dfrac{\\partial^2 f}{\\partial y^2} =\n",
    "\\dfrac{d}{dy}(\\exp(x^2 + 2y^2)) \\cdot 4y + \\exp(x^2 +2y^2)\\cdot \\dfrac{d}{dx}(4y) \\\\\n",
    "f_{yy}(x,y) = \\dfrac{\\partial^2 f}{\\partial y^2} =\n",
    "\\dfrac{d}{dy}(\\exp(x^2 +2y^2)) \\cdot 4y  + 4\\cdot \\exp(x^2 +2y^2)\\\\\n",
    "$\n",
    "<br>\n",
    "> **연쇄법칙** <br>\n",
    "$\n",
    "f = \\exp(z) \\;, \\; z = x^2 + 2y^2 \\\\\n",
    "\\dfrac{df}{dz}= \\exp(x^2 + 2y^2) \\;, \\;\n",
    "\\dfrac{dz}{dy}= 4y\\\\\n",
    "\\dfrac{df}{dz} \\cdot \\dfrac{dz}{dy} = 4y \\cdot \\exp(x^2 + 2y^2) \\\\\n",
    "$\n",
    "\n",
    "$\n",
    "f_{yy}(x,y) = \\dfrac{\\partial^2 f}{\\partial y^2} =\n",
    "4y \\cdot exp(x^2 + 2y^2) \\cdot 4y  + 4\\cdot \\exp(x^2 +2y^2)\n",
    "\\\\\n",
    "f_{yy}(x,y) = \\dfrac{\\partial^2 f}{\\partial y^2} =\n",
    "16y^2 \\cdot exp(x^2 + 2y^2) + 4\\cdot \\exp(x^2 +2y^2)\n",
    "\\\\\n",
    "f_{yy}(x,y) = \\dfrac{\\partial^2 f}{\\partial y^2} =\n",
    "4(4y^2 + 1) \\cdot \\exp(x^2 +2y^2)\\\\\n",
    "$"
   ]
  },
  {
   "cell_type": "markdown",
   "metadata": {},
   "source": [
    "### 6. 첫번째 y 미분, 두번째 x 미분\n",
    "\n",
    "첫번째 y 미분결과<br>\n",
    "$\n",
    "f_y(x,y) = \\dfrac{\\partial f}{\\partial y} =\n",
    "4y \\cdot \\exp(x^2 + 2y^2) \n",
    "$\n",
    "<br>\n",
    "> **연쇄법칙** <br>\n",
    "$\n",
    "f = \\exp(z) \\;, \\; z = x^2 + 2y^2 \\\\\n",
    "\\dfrac{df}{dz}= \\exp(x^2 + 2y^2) \\;, \\;\n",
    "\\dfrac{dz}{dx}= 2x\\\\\n",
    "\\dfrac{df}{dz} \\cdot \\dfrac{dz}{dx} = 2x \\cdot exp(x^2 + 2y^2) \\\\\n",
    "$\n",
    "\n",
    "$\n",
    "f_{yx}(x,y)=\\dfrac{\\partial^2f}{\\partial x\\partial y} =\n",
    "2x \\cdot 4y \\cdot \\exp(x^2 + 2y^2) \\\\\n",
    "f_{yx}(x,y)=\\dfrac{\\partial^2f}{\\partial x\\partial y} =\n",
    "8xy \\cdot \\exp(x^2 + 2y^2) \n",
    "$"
   ]
  },
  {
   "cell_type": "code",
   "execution_count": 2,
   "metadata": {},
   "outputs": [],
   "source": [
    "import sympy\n",
    "sympy.init_printing(use_latex=\"mathjax\")"
   ]
  },
  {
   "cell_type": "code",
   "execution_count": 3,
   "metadata": {},
   "outputs": [],
   "source": [
    "x, y = sympy.symbols('x y')"
   ]
  },
  {
   "cell_type": "code",
   "execution_count": 5,
   "metadata": {},
   "outputs": [],
   "source": [
    "f = sympy.exp(x**2 + 2*y**2)"
   ]
  },
  {
   "cell_type": "code",
   "execution_count": 17,
   "metadata": {},
   "outputs": [
    {
     "data": {
      "text/latex": [
       "$$\\left ( 2 x e^{x^{2} + 2 y^{2}}, \\quad 2 \\left(2 x^{2} + 1\\right) e^{x^{2} + 2 y^{2}}, \\quad 8 x y e^{x^{2} + 2 y^{2}}\\right )$$"
      ],
      "text/plain": [
       "⎛      2      2                 2      2          2      2⎞\n",
       "⎜     x  + 2⋅y     ⎛   2    ⎞  x  + 2⋅y          x  + 2⋅y ⎟\n",
       "⎝2⋅x⋅ℯ         , 2⋅⎝2⋅x  + 1⎠⋅ℯ         , 8⋅x⋅y⋅ℯ         ⎠"
      ]
     },
     "execution_count": 17,
     "metadata": {},
     "output_type": "execute_result"
    }
   ],
   "source": [
    "sympy.diff(f, x), sympy.diff(f, x, x), sympy.diff(f, x, y)"
   ]
  },
  {
   "cell_type": "code",
   "execution_count": 20,
   "metadata": {},
   "outputs": [
    {
     "data": {
      "text/latex": [
       "$$\\left ( 4 y e^{x^{2} + 2 y^{2}}, \\quad 4 \\left(4 y^{2} + 1\\right) e^{x^{2} + 2 y^{2}}, \\quad 8 x y e^{x^{2} + 2 y^{2}}\\right )$$"
      ],
      "text/plain": [
       "⎛      2      2                 2      2          2      2⎞\n",
       "⎜     x  + 2⋅y     ⎛   2    ⎞  x  + 2⋅y          x  + 2⋅y ⎟\n",
       "⎝4⋅y⋅ℯ         , 4⋅⎝4⋅y  + 1⎠⋅ℯ         , 8⋅x⋅y⋅ℯ         ⎠"
      ]
     },
     "execution_count": 20,
     "metadata": {},
     "output_type": "execute_result"
    }
   ],
   "source": [
    "sympy.diff(f, y), sympy.diff(f, y, y), sympy.diff(f, y, x)"
   ]
  }
 ],
 "metadata": {
  "kernelspec": {
   "display_name": "Python 3",
   "language": "python",
   "name": "python3"
  },
  "language_info": {
   "codemirror_mode": {
    "name": "ipython",
    "version": 3
   },
   "file_extension": ".py",
   "mimetype": "text/x-python",
   "name": "python",
   "nbconvert_exporter": "python",
   "pygments_lexer": "ipython3",
   "version": "3.6.4"
  }
 },
 "nbformat": 4,
 "nbformat_minor": 2
}
