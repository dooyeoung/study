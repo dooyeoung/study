{
 "cells": [
  {
   "cell_type": "markdown",
   "metadata": {},
   "source": [
    "## 미분"
   ]
  },
  {
   "cell_type": "markdown",
   "metadata": {},
   "source": [
    "$\n",
    "f(x)=a^x \\\\\n",
    "f'(x) = \\dfrac{ a^{x+h} - a^x}{h} \\\\\n",
    "f'(x) = \\dfrac{ a^{x}(a^h - 1)}{h} \\\\\n",
    "$\n",
    "<br>\n",
    "$ a^h - 1 = t $ 이라 가정하면 $ a^h=1+t $ 이며 $ h=\\log_a(1+t) $가 된다\n",
    "\n",
    "$ f'(x) = \\dfrac{a^x \\cdot t}{\\log_a(1+t)} $ <br>\n",
    "\n",
    "> **로그 밑변환 공식** <br>\n",
    "$\\log_a b = \\dfrac{\\log_cb}{\\log_ca}$\n",
    "\n",
    "$\n",
    "f'(x) = a^x \\cdot \\dfrac{t}{\\dfrac{\\ln (1+t)}{\\ln (a)}}\\\\\n",
    "f'(x) = a^x \\cdot \\dfrac{t \\cdot \\ln(a)}{\\ln(1+t)} \\\\\n",
    "f'(x) = a^x \\cdot \\ln(a) \\cdot \\dfrac{t}{\\ln(1+t)} \\\\\n",
    "f'(x) = a^x \\cdot \\ln(a) \\cdot \\dfrac{1}{\\dfrac{1}{t} \\cdot \\ln(1+t)} \\\\\n",
    "f'(x) = a^x \\cdot \\ln(a) \\cdot \\dfrac{1}{\\ln(1+t)^{\\frac{1}{t}}} \\\\\n",
    "f'(x) = a^x \\cdot \\ln(a) \\cdot \\dfrac{1}{\\ln(e)} \\\\\n",
    "f'(x) = a^x \\cdot \\ln(a)\n",
    "$"
   ]
  },
  {
   "cell_type": "markdown",
   "metadata": {},
   "source": [
    "---"
   ]
  },
  {
   "cell_type": "markdown",
   "metadata": {},
   "source": [
    "$f(x) = \\log_a(x)\\\\\n",
    "f'(x) = \\lim_{x \\to 0} \\dfrac{ \\log_a(x + h) - \\log_a(x)}{ h} \\\\\n",
    "f'(x) = \\lim_{x \\to 0} \\dfrac{ \\log_a(\\dfrac{ x+h}{x} )}{ h} \\\\\n",
    "f'(x) = \\lim_{x \\to 0} \\dfrac{ \\log_a(1 + \\dfrac{h}{x} )}{ h} \\\\\n",
    "f'(x) = \\lim_{x \\to 0} \\dfrac{ 1}{ h} \\cdot \\log_a(1 + \\dfrac{h}{x} ) \\\\\n",
    "f'(x) = \\lim_{x \\to 0} \\log_a\\left(1 + \\dfrac{h}{x} \\right)^ \\frac{ 1}{ h} \\\\\n",
    "f'(x) = \\lim_{x \\to 0} \\log_a\\left(1 + \\dfrac{h}{x} \\right)^ {\\frac{ x}{ h} \\cdot \\frac{1}{x}}\\\\\n",
    "\\log_a(e)^ \\frac{1}{x}\\\\\n",
    "\\dfrac{1}{x} \\cdot \\log_a(e) \\\\\n",
    "$<br>\n",
    "\n",
    "> **로그 밑변환 공식** <br>\n",
    "$\\log_a b = \\dfrac{\\log_cb}{\\log_ca}$\n",
    "\n",
    "$\n",
    "\\dfrac{1}{x} \\cdot \\dfrac{\\ln(e)}{\\ln(a)} \\\\\n",
    "\\dfrac{1}{x} \\cdot \\dfrac{1}{\\ln(a)} \\\\\n",
    "$"
   ]
  },
  {
   "cell_type": "markdown",
   "metadata": {},
   "source": [
    "---"
   ]
  },
  {
   "cell_type": "markdown",
   "metadata": {},
   "source": [
    "$\n",
    "f(x) = \\ln(x) \\\\\n",
    "f'(x) = \\lim_{x \\to \\infty} \\dfrac{\\ln(x+h) -\\ln(x)}{h} \\\\\n",
    "f'(x) = \\lim_{x \\to \\infty} \\dfrac{\\ln \\left( \\dfrac{x+h}{x} \\right)}{h} \\\\\n",
    "f'(x) = \\lim_{x \\to \\infty} \\dfrac{\\ln \\left( 1 + \\dfrac{h}{x} \\right)}{h} \\\\\n",
    "f'(x) = \\lim_{x \\to \\infty} \\dfrac{1}{h} \\cdot \\ln \\left( 1 + \\dfrac{h}{x} \\right) \\\\\n",
    "f'(x) = \\lim_{x \\to \\infty} \\ln \\left( 1 + \\dfrac{h}{x} \\right)^ \\frac{1}{h} \\\\\n",
    "f'(x) = \\lim_{x \\to \\infty} \\ln \\left( 1 + \\dfrac{h}{x} \\right)^ {\\frac{x}{h} \\cdot \\frac{1}{x}} \\\\\n",
    "f'(x) =  \\dfrac{1}{x} \\cdot \\ln \\left( 1 + \\dfrac{h}{x} \\right)^ {\\frac{x}{h}} \\\\\n",
    "f'(x) =  \\dfrac{1}{x} \\cdot \\ln (e) \\\\\n",
    "f'(x) =  \\dfrac{1}{x}\n",
    "$"
   ]
  }
 ],
 "metadata": {
  "kernelspec": {
   "display_name": "Python 3",
   "language": "python",
   "name": "python3"
  },
  "language_info": {
   "codemirror_mode": {
    "name": "ipython",
    "version": 3
   },
   "file_extension": ".py",
   "mimetype": "text/x-python",
   "name": "python",
   "nbconvert_exporter": "python",
   "pygments_lexer": "ipython3",
   "version": "3.6.4"
  }
 },
 "nbformat": 4,
 "nbformat_minor": 2
}
