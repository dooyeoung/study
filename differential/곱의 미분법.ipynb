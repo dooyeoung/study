{
 "cells": [
  {
   "cell_type": "markdown",
   "metadata": {},
   "source": [
    "$\n",
    "k(x) = f(x) \\cdot g(x) \\\\\n",
    "k'(x) = \\lim_{h \\to 0} \\dfrac{ k(x+h) - k(x)} {h } \\\\\n",
    "= \\lim_{h \\to 0} \\dfrac{f(x+h)\\cdot g(x+h) - f(x)\\cdot g(x)}{h} \\\\\n",
    "= \\lim_{h \\to 0} \\dfrac{f(x+h)\\cdot g(x+h)}{h} - \\dfrac{f(x)\\cdot g(x)}{h}  \\\\\n",
    "$<br>\n",
    "\n",
    "좌,우 분수에 $g(x+h)\\cdot f(x) $ -, + 하여 계산식을 변형한다<br>\n",
    "\n",
    "$\n",
    "= \\lim_{h \\to 0} \\dfrac{f(x+h)\\cdot g(x+h) - g(x+h)\\cdot f(x) + g(x+h)\\cdot f(x) - f(x)\\cdot g(x) }{h} \\\\\\\\\n",
    "= \\lim_{h \\to 0} \\dfrac{ g(x+h)\\cdot (f(x+h) - f(x)) + f(x)(g(x+h)-g(x))}{h}\\\\\n",
    "= \\lim_{h \\to 0} \\dfrac{ g(x+h)\\cdot (f(x+h) - f(x))}{h} + \\lim_{h \\to 0}\\dfrac{f(x)(g(x+h)-g(x))}{h}\\\\\n",
    "= \\lim_{h \\to 0} \\dfrac{f(x+h) - f(x)}{h} \\cdot g(x+h)+  \\lim_{h \\to 0}f(x) \\cdot \\dfrac{g(x+h)-g(x)}{h}\\\\\n",
    "= f'(x) \\cdot g(x+h) + f(x)\\cdot g'(x) \\;\\; h \\; 가 \\; 0으로 \\; 갈때 \n",
    "$\n",
    "\n",
    "$ \n",
    "f(x)\\cdot g(x) = f'(x)\\cdot g(x) + f(x) \\cdot g'(x)\n",
    "$"
   ]
  },
  {
   "cell_type": "code",
   "execution_count": null,
   "metadata": {},
   "outputs": [],
   "source": [
    "\n"
   ]
  }
 ],
 "metadata": {
  "kernelspec": {
   "display_name": "Python 3",
   "language": "python",
   "name": "python3"
  },
  "language_info": {
   "codemirror_mode": {
    "name": "ipython",
    "version": 3
   },
   "file_extension": ".py",
   "mimetype": "text/x-python",
   "name": "python",
   "nbconvert_exporter": "python",
   "pygments_lexer": "ipython3",
   "version": "3.6.4"
  }
 },
 "nbformat": 4,
 "nbformat_minor": 2
}
