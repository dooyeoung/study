{
 "cells": [
  {
   "cell_type": "markdown",
   "metadata": {},
   "source": [
    "Gradient Descent가 어떤 것인지 보았고 cost function을 최소화 하는데 매우 효율적인 방법이라는 것을 알게 되었습니다. 하지만 이 방법의 한계는 cost function 이 U자 형태로 한쪽 방향으로 볼록한 모양이어야 적용 가능하다는 문제를 가지고 있습니다. 만약에 cost function이 제곱근에 비례하지 않거나 multi dimensional space에 표현 될 경우 구불구불한 모양이 될 수 있습니다. 이런 cost function 값에 simple한 Gradient Descent를 적용하게 되면 잘못된 weight값을 갖게 됩니다. 이 문제를 해결하기 위해 Stochastic Gradient Descent가 필요합니다.\n",
    "일반적인 Gradient Descent는 Batch Gradient Descent로서 neural network안에 있는 모든 cost function값의 합을 가지고 적합한  weight를 찾고 이 과정을 반복합니다.  전체 bath를 가지고 같은 weight를 적용하게 됩니다. Stochastic Gradient Descent는 약간 다릅니다. Neural network안에 있는 dataset 의 row 하나 하나를 따로 cost function 값을 구하고 각각의 weight를 계산 하게 됩니다. 전체 batch 의 cost function 값을 합산해서  weight를 구하는 Batch Gradient Descent에 비해서 row 하나 하나의 cost function값을 구하고 각각의 row weight를 구하는 Stochastic Gradient는 어떤 장 단점을 가지고 있을까요?\n",
    "첫 번째, Stochastic Gradient Descent는 Batch Gradient Descent 보다 global minimum 값을 더 쉽게 찾게 됩니다. 복잡한 cost function값을 보일 때 전체 값을 가지고 보면 local minimum 값을 global minimum 값으로 보게 될 수 있기 때문입니다. 하나 하나의 cost function  값들을 따로 보게 되면 이 값들의 변동 폭이 크기 때문에 overall global minimum을 구하기가 쉬워집니다.\n",
    "두 번째는 속도입니다. Batch Gradient Descent처럼  전체를 보고 한번에 weight 계산하고 반복하는 것이   빠를 것 같지만 실제로 데이터 로딩 시간, 전체가 다 계산 되어질 때 까지 기다리는 시간 등을 따지면 Stochastic Gradient Descent가 더 빠르게 계산됩니다.\n",
    "세 번째는 random입니다.  Batch Gradient Descent는 항상 전체 값을 가지고 계산 하기 때문에 반복되는 동일한  결과 값을 줄 수 있지만 Stochastic Gradient Descent는 random 계산을 하기 때문에 result가 달라질 수 있습니다.\n",
    "이런 차이점을 Stochastic Gradient Descent가 가지고 있고 이런 장 단점을 가지고 mini- Batch Gradient Descent와 같은 방식들도 만들어 지고 있습니다.\n"
   ]
  },
  {
   "cell_type": "code",
   "execution_count": null,
   "metadata": {},
   "outputs": [],
   "source": []
  },
  {
   "cell_type": "code",
   "execution_count": 2,
   "metadata": {},
   "outputs": [],
   "source": [
    "import warnings\n",
    "warnings.filterwarnings('ignore')\n",
    "\n",
    "%matplotlib inline\n",
    "%config InlineBackend.figure_format = 'retina'"
   ]
  },
  {
   "cell_type": "code",
   "execution_count": 8,
   "metadata": {},
   "outputs": [],
   "source": [
    "data_r = pd.read_csv('data/winequality/winequality-red.csv', sep=';')\n",
    "data_w = pd.read_csv('data/winequality/winequality-white.csv', sep=';')"
   ]
  },
  {
   "cell_type": "code",
   "execution_count": 11,
   "metadata": {},
   "outputs": [
    {
     "data": {
      "text/html": [
       "<div>\n",
       "<style scoped>\n",
       "    .dataframe tbody tr th:only-of-type {\n",
       "        vertical-align: middle;\n",
       "    }\n",
       "\n",
       "    .dataframe tbody tr th {\n",
       "        vertical-align: top;\n",
       "    }\n",
       "\n",
       "    .dataframe thead th {\n",
       "        text-align: right;\n",
       "    }\n",
       "</style>\n",
       "<table border=\"1\" class=\"dataframe\">\n",
       "  <thead>\n",
       "    <tr style=\"text-align: right;\">\n",
       "      <th></th>\n",
       "      <th>fixed acidity</th>\n",
       "      <th>volatile acidity</th>\n",
       "      <th>citric acid</th>\n",
       "      <th>residual sugar</th>\n",
       "      <th>chlorides</th>\n",
       "      <th>free sulfur dioxide</th>\n",
       "      <th>total sulfur dioxide</th>\n",
       "      <th>density</th>\n",
       "      <th>pH</th>\n",
       "      <th>sulphates</th>\n",
       "      <th>alcohol</th>\n",
       "      <th>quality</th>\n",
       "    </tr>\n",
       "  </thead>\n",
       "  <tbody>\n",
       "    <tr>\n",
       "      <th>0</th>\n",
       "      <td>7.0</td>\n",
       "      <td>0.27</td>\n",
       "      <td>0.36</td>\n",
       "      <td>20.7</td>\n",
       "      <td>0.045</td>\n",
       "      <td>45.0</td>\n",
       "      <td>170.0</td>\n",
       "      <td>1.0010</td>\n",
       "      <td>3.00</td>\n",
       "      <td>0.45</td>\n",
       "      <td>8.8</td>\n",
       "      <td>6</td>\n",
       "    </tr>\n",
       "    <tr>\n",
       "      <th>1</th>\n",
       "      <td>6.3</td>\n",
       "      <td>0.30</td>\n",
       "      <td>0.34</td>\n",
       "      <td>1.6</td>\n",
       "      <td>0.049</td>\n",
       "      <td>14.0</td>\n",
       "      <td>132.0</td>\n",
       "      <td>0.9940</td>\n",
       "      <td>3.30</td>\n",
       "      <td>0.49</td>\n",
       "      <td>9.5</td>\n",
       "      <td>6</td>\n",
       "    </tr>\n",
       "    <tr>\n",
       "      <th>2</th>\n",
       "      <td>8.1</td>\n",
       "      <td>0.28</td>\n",
       "      <td>0.40</td>\n",
       "      <td>6.9</td>\n",
       "      <td>0.050</td>\n",
       "      <td>30.0</td>\n",
       "      <td>97.0</td>\n",
       "      <td>0.9951</td>\n",
       "      <td>3.26</td>\n",
       "      <td>0.44</td>\n",
       "      <td>10.1</td>\n",
       "      <td>6</td>\n",
       "    </tr>\n",
       "    <tr>\n",
       "      <th>3</th>\n",
       "      <td>7.2</td>\n",
       "      <td>0.23</td>\n",
       "      <td>0.32</td>\n",
       "      <td>8.5</td>\n",
       "      <td>0.058</td>\n",
       "      <td>47.0</td>\n",
       "      <td>186.0</td>\n",
       "      <td>0.9956</td>\n",
       "      <td>3.19</td>\n",
       "      <td>0.40</td>\n",
       "      <td>9.9</td>\n",
       "      <td>6</td>\n",
       "    </tr>\n",
       "    <tr>\n",
       "      <th>4</th>\n",
       "      <td>7.2</td>\n",
       "      <td>0.23</td>\n",
       "      <td>0.32</td>\n",
       "      <td>8.5</td>\n",
       "      <td>0.058</td>\n",
       "      <td>47.0</td>\n",
       "      <td>186.0</td>\n",
       "      <td>0.9956</td>\n",
       "      <td>3.19</td>\n",
       "      <td>0.40</td>\n",
       "      <td>9.9</td>\n",
       "      <td>6</td>\n",
       "    </tr>\n",
       "  </tbody>\n",
       "</table>\n",
       "</div>"
      ],
      "text/plain": [
       "   fixed acidity  volatile acidity  citric acid  residual sugar  chlorides  \\\n",
       "0            7.0              0.27         0.36            20.7      0.045   \n",
       "1            6.3              0.30         0.34             1.6      0.049   \n",
       "2            8.1              0.28         0.40             6.9      0.050   \n",
       "3            7.2              0.23         0.32             8.5      0.058   \n",
       "4            7.2              0.23         0.32             8.5      0.058   \n",
       "\n",
       "   free sulfur dioxide  total sulfur dioxide  density    pH  sulphates  \\\n",
       "0                 45.0                 170.0   1.0010  3.00       0.45   \n",
       "1                 14.0                 132.0   0.9940  3.30       0.49   \n",
       "2                 30.0                  97.0   0.9951  3.26       0.44   \n",
       "3                 47.0                 186.0   0.9956  3.19       0.40   \n",
       "4                 47.0                 186.0   0.9956  3.19       0.40   \n",
       "\n",
       "   alcohol  quality  \n",
       "0      8.8        6  \n",
       "1      9.5        6  \n",
       "2     10.1        6  \n",
       "3      9.9        6  \n",
       "4      9.9        6  "
      ]
     },
     "execution_count": 11,
     "metadata": {},
     "output_type": "execute_result"
    }
   ],
   "source": [
    "data_w.head()"
   ]
  },
  {
   "cell_type": "code",
   "execution_count": 13,
   "metadata": {},
   "outputs": [],
   "source": [
    "# Make a prediction with coefficients\n",
    "def predict(row, coefficients):\n",
    "    yhat = coefficients[0]\n",
    "    for i in range(len(row)-1):\n",
    "        yhat += coefficients[i + 1] * row[i]\n",
    "    return yhat"
   ]
  },
  {
   "cell_type": "code",
   "execution_count": 14,
   "metadata": {},
   "outputs": [
    {
     "name": "stdout",
     "output_type": "stream",
     "text": [
      "Expected=1.000, Predicted=1.200\n",
      "Expected=3.000, Predicted=2.000\n",
      "Expected=3.000, Predicted=3.600\n",
      "Expected=2.000, Predicted=2.800\n",
      "Expected=5.000, Predicted=4.400\n"
     ]
    }
   ],
   "source": [
    "dataset = [[1, 1], [2, 3], [4, 3], [3, 2], [5, 5]]\n",
    "coef = [0.4, 0.8]\n",
    "\n",
    "pres=[]\n",
    "for row in dataset:\n",
    "    yhat = predict(row, coef)\n",
    "    print(\"Expected=%.3f, Predicted=%.3f\" % (row[-1], yhat))\n"
   ]
  },
  {
   "cell_type": "code",
   "execution_count": 46,
   "metadata": {},
   "outputs": [],
   "source": [
    "# Estimate linear regression coefficients using stochastic gradient descent\n",
    "def coefficients_sgd(train, l_rate, n_epoch):\n",
    "    #데이터 개수만큼 가중치 만들기\n",
    "    coef = [0.0 for i in range(len(train[0]))]\n",
    "    \n",
    "    history = []\n",
    "    for epoch in range(n_epoch):\n",
    "        sum_error = 0\n",
    "        for row in train:\n",
    "            # 예측값 구하기\n",
    "            yhat = predict(row, coef)\n",
    "            # 잔차구하기\n",
    "            error = yhat - row[-1]\n",
    "            # 잔체 제곱\n",
    "            sum_error += error**2\n",
    "            \n",
    "            # 가중치 업데이트\n",
    "            coef[0] = coef[0] - l_rate * error\n",
    "            for i in range(len(row)-1):\n",
    "                coef[i + 1] = coef[i + 1] - l_rate * error * row[i]\n",
    "                \n",
    "            history.append(np.array(coef))\n",
    "        #print(sum_error, coef)\n",
    "    return coef, history\n",
    "\n",
    "# Calculate coefficients\n",
    "dataset = [[1, 1], [2, 3], [4, 3], [3, 2], [5, 5]]\n",
    "l_rate = 0.001\n",
    "n_epoch = 100000\n",
    "coef, history = coefficients_sgd(dataset, l_rate, n_epoch)"
   ]
  },
  {
   "cell_type": "code",
   "execution_count": 47,
   "metadata": {},
   "outputs": [
    {
     "data": {
      "text/plain": [
       "[0.39511142104515923, 0.8023065169123355]"
      ]
     },
     "execution_count": 47,
     "metadata": {},
     "output_type": "execute_result"
    }
   ],
   "source": [
    "coef"
   ]
  },
  {
   "cell_type": "code",
   "execution_count": 48,
   "metadata": {},
   "outputs": [],
   "source": [
    "history = np.vstack(history)"
   ]
  },
  {
   "cell_type": "code",
   "execution_count": 49,
   "metadata": {},
   "outputs": [
    {
     "data": {
      "text/plain": [
       "[<matplotlib.lines.Line2D at 0x10e3103c8>]"
      ]
     },
     "execution_count": 49,
     "metadata": {},
     "output_type": "execute_result"
    },
    {
     "data": {
      "image/png": "[encoded data removed]",
      "text/plain": [
       "<Figure size 504x504 with 1 Axes>"
      ]
     },
     "metadata": {
      "image/png": {
       "height": 411,
       "width": 425
      }
     },
     "output_type": "display_data"
    }
   ],
   "source": [
    "plt.figure(figsize=(7, 7))\n",
    "plt.plot(history[:,0], history[:,1], 'o-', alpha=0.1)"
   ]
  },
  {
   "cell_type": "code",
   "execution_count": null,
   "metadata": {},
   "outputs": [],
   "source": []
  },
  {
   "cell_type": "code",
   "execution_count": null,
   "metadata": {},
   "outputs": [],
   "source": []
  },
  {
   "cell_type": "code",
   "execution_count": 50,
   "metadata": {},
   "outputs": [],
   "source": [
    "from sklearn.datasets.samples_generator import make_regression \n",
    "from scipy import stats \n",
    "x, y = make_regression(n_samples = 100, \n",
    "                       n_features=1, \n",
    "                       n_informative=1, \n",
    "                       noise=20,\n",
    "                       random_state=2017)\n",
    "x = x.flatten()"
   ]
  },
  {
   "cell_type": "code",
   "execution_count": 53,
   "metadata": {},
   "outputs": [
    {
     "data": {
      "text/plain": [
       "array([ 0.03225343, -0.43717257, -0.14039799, -0.28942671, -1.43048995,\n",
       "       -0.86109055, -0.95908022, -0.52824237, -0.18007786,  1.81894788,\n",
       "       -1.50157469,  1.07524045, -0.53757079, -0.33654744, -0.69333384,\n",
       "        0.18613021, -0.35285906, -0.59573347, -0.95284841,  1.37214258,\n",
       "       -1.00148098,  0.59405599,  1.98893004, -0.84764818,  0.21276995,\n",
       "       -0.86352344, -0.44574656, -1.08669572,  0.88578638, -0.39457786,\n",
       "       -0.75808346,  0.21445342, -0.91772873,  1.18192126, -1.23456807,\n",
       "        1.51028721,  0.36908201,  0.07800759,  0.92827925,  0.91180261,\n",
       "        0.50541435,  0.39476163, -1.40727442,  1.33682587,  0.28914398,\n",
       "        0.10784411, -0.48610801, -1.01412413, -0.99058644, -0.81726253,\n",
       "        1.19533418,  1.39334529, -0.55307527,  1.31181742, -0.20875222,\n",
       "        0.02615138,  0.03133165, -0.85845574, -0.09592554,  0.57347598,\n",
       "        0.88361674, -0.27481173, -0.89590558, -1.02294529,  1.44454617,\n",
       "        0.74268098, -0.55325354,  0.46630994,  0.81253433, -0.38342089,\n",
       "        1.14773859,  0.19909227, -0.09843773, -0.39285043,  1.20320029,\n",
       "       -1.56386788, -0.724668  , -0.84860918, -0.22007928, -0.73312349,\n",
       "       -0.44412137,  1.23233384, -0.48253414,  0.6770562 ,  0.89574884,\n",
       "       -0.01124513, -0.520261  , -2.20268367,  1.20129796, -0.74358543,\n",
       "       -0.70954338, -0.19933591, -1.08933018,  0.78779876,  0.14851281,\n",
       "       -0.59370289,  0.44482146,  2.42038368,  0.67422499,  0.02184234])"
      ]
     },
     "execution_count": 53,
     "metadata": {},
     "output_type": "execute_result"
    }
   ],
   "source": [
    "def sgd(train):\n",
    "    "
   ]
  },
  {
   "cell_type": "code",
   "execution_count": null,
   "metadata": {},
   "outputs": [],
   "source": []
  }
 ],
 "metadata": {
  "kernelspec": {
   "display_name": "Python 3",
   "language": "python",
   "name": "python3"
  },
  "language_info": {
   "codemirror_mode": {
    "name": "ipython",
    "version": 3
   },
   "file_extension": ".py",
   "mimetype": "text/x-python",
   "name": "python",
   "nbconvert_exporter": "python",
   "pygments_lexer": "ipython3",
   "version": "3.6.5"
  }
 },
 "nbformat": 4,
 "nbformat_minor": 2
}
