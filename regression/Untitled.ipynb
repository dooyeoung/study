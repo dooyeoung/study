{
 "cells": [
  {
   "cell_type": "code",
   "execution_count": 5,
   "metadata": {},
   "outputs": [],
   "source": [
    "%matplotlib inline\n",
    "import warnings\n",
    "warnings.filterwarnings('ignore')"
   ]
  },
  {
   "cell_type": "markdown",
   "metadata": {},
   "source": [
    "### 최소 제곱법"
   ]
  },
  {
   "cell_type": "code",
   "execution_count": 6,
   "metadata": {},
   "outputs": [],
   "source": [
    "def least_squares(x):\n",
    "    return 1/2 * x ** 2"
   ]
  },
  {
   "cell_type": "code",
   "execution_count": 7,
   "metadata": {},
   "outputs": [],
   "source": [
    "xx = np.linspace(-5, 5, 100)\n",
    "y = least_squares(xx)"
   ]
  },
  {
   "cell_type": "code",
   "execution_count": 8,
   "metadata": {
    "scrolled": true
   },
   "outputs": [
    {
     "data": {
      "text/plain": [
       "[<matplotlib.lines.Line2D at 0x1127ae208>]"
      ]
     },
     "execution_count": 8,
     "metadata": {},
     "output_type": "execute_result"
    },
    {
     "data": {
      "image/png": "[encoded data removed]",
      "text/plain": [
       "<Figure size 432x288 with 1 Axes>"
      ]
     },
     "metadata": {},
     "output_type": "display_data"
    }
   ],
   "source": [
    "plt.plot(xx, y)"
   ]
  },
  {
   "cell_type": "markdown",
   "metadata": {},
   "source": [
    "y가 최소가 되는 f(x)의 x,즉 theta를 찾는 방법"
   ]
  },
  {
   "cell_type": "code",
   "execution_count": null,
   "metadata": {},
   "outputs": [],
   "source": []
  },
  {
   "cell_type": "code",
   "execution_count": 9,
   "metadata": {},
   "outputs": [],
   "source": [
    "def f(x, theta):\n",
    "    b = theta[0]\n",
    "    w = theta[1]\n",
    "    return b + w*x"
   ]
  },
  {
   "cell_type": "code",
   "execution_count": 10,
   "metadata": {},
   "outputs": [],
   "source": [
    "def e(y, yhat):\n",
    "    return 1/2 * np.sum(np.square(y - yhat))"
   ]
  },
  {
   "cell_type": "code",
   "execution_count": 26,
   "metadata": {},
   "outputs": [],
   "source": [
    "x = np.array([58, 70, 81, 84])\n",
    "y = np.array([374, 385, 375, 401])"
   ]
  },
  {
   "cell_type": "code",
   "execution_count": 12,
   "metadata": {},
   "outputs": [
    {
     "data": {
      "text/plain": [
       "<matplotlib.collections.PathCollection at 0x112818c50>"
      ]
     },
     "execution_count": 12,
     "metadata": {},
     "output_type": "execute_result"
    },
    {
     "data": {
      "image/png": "[encoded data removed]",
      "text/plain": [
       "<Figure size 432x288 with 1 Axes>"
      ]
     },
     "metadata": {},
     "output_type": "display_data"
    }
   ],
   "source": [
    "plt.scatter(x, y)\n",
    "yhat = f(x, [1, 2])\n",
    "plt.scatter(x, yhat)"
   ]
  },
  {
   "cell_type": "code",
   "execution_count": 13,
   "metadata": {},
   "outputs": [],
   "source": [
    "scores = []\n",
    "\n",
    "for i in np.linspace(-50, 50, 500):\n",
    "    for j in np.linspace(-50, 50, 500):\n",
    "        yhat = f(x, [i, j])\n",
    "        score = e(y, yhat)\n",
    "        scores.append([score, i, j]) "
   ]
  },
  {
   "cell_type": "code",
   "execution_count": 14,
   "metadata": {},
   "outputs": [],
   "source": [
    "resdf = pd.DataFrame(scores)\n",
    "resdf = resdf.sort_values(0, ascending=True).reset_index(drop=True)"
   ]
  },
  {
   "cell_type": "code",
   "execution_count": 15,
   "metadata": {
    "scrolled": true
   },
   "outputs": [
    {
     "data": {
      "text/html": [
       "<div>\n",
       "<style scoped>\n",
       "    .dataframe tbody tr th:only-of-type {\n",
       "        vertical-align: middle;\n",
       "    }\n",
       "\n",
       "    .dataframe tbody tr th {\n",
       "        vertical-align: top;\n",
       "    }\n",
       "\n",
       "    .dataframe thead th {\n",
       "        text-align: right;\n",
       "    }\n",
       "</style>\n",
       "<table border=\"1\" class=\"dataframe\">\n",
       "  <thead>\n",
       "    <tr style=\"text-align: right;\">\n",
       "      <th></th>\n",
       "      <th>0</th>\n",
       "      <th>1</th>\n",
       "      <th>2</th>\n",
       "    </tr>\n",
       "  </thead>\n",
       "  <tbody>\n",
       "    <tr>\n",
       "      <th>0</th>\n",
       "      <td>3333.74</td>\n",
       "      <td>50.00</td>\n",
       "      <td>4.51</td>\n",
       "    </tr>\n",
       "    <tr>\n",
       "      <th>1</th>\n",
       "      <td>3336.60</td>\n",
       "      <td>49.80</td>\n",
       "      <td>4.51</td>\n",
       "    </tr>\n",
       "    <tr>\n",
       "      <th>2</th>\n",
       "      <td>3339.62</td>\n",
       "      <td>49.60</td>\n",
       "      <td>4.51</td>\n",
       "    </tr>\n",
       "    <tr>\n",
       "      <th>3</th>\n",
       "      <td>3342.80</td>\n",
       "      <td>49.40</td>\n",
       "      <td>4.51</td>\n",
       "    </tr>\n",
       "    <tr>\n",
       "      <th>4</th>\n",
       "      <td>3346.14</td>\n",
       "      <td>49.20</td>\n",
       "      <td>4.51</td>\n",
       "    </tr>\n",
       "    <tr>\n",
       "      <th>5</th>\n",
       "      <td>3349.64</td>\n",
       "      <td>49.00</td>\n",
       "      <td>4.51</td>\n",
       "    </tr>\n",
       "    <tr>\n",
       "      <th>6</th>\n",
       "      <td>3353.30</td>\n",
       "      <td>48.80</td>\n",
       "      <td>4.51</td>\n",
       "    </tr>\n",
       "    <tr>\n",
       "      <th>7</th>\n",
       "      <td>3357.12</td>\n",
       "      <td>48.60</td>\n",
       "      <td>4.51</td>\n",
       "    </tr>\n",
       "    <tr>\n",
       "      <th>8</th>\n",
       "      <td>3361.10</td>\n",
       "      <td>48.40</td>\n",
       "      <td>4.51</td>\n",
       "    </tr>\n",
       "    <tr>\n",
       "      <th>9</th>\n",
       "      <td>3365.24</td>\n",
       "      <td>48.20</td>\n",
       "      <td>4.51</td>\n",
       "    </tr>\n",
       "    <tr>\n",
       "      <th>10</th>\n",
       "      <td>3369.55</td>\n",
       "      <td>48.00</td>\n",
       "      <td>4.51</td>\n",
       "    </tr>\n",
       "    <tr>\n",
       "      <th>11</th>\n",
       "      <td>3374.01</td>\n",
       "      <td>47.80</td>\n",
       "      <td>4.51</td>\n",
       "    </tr>\n",
       "    <tr>\n",
       "      <th>12</th>\n",
       "      <td>3378.64</td>\n",
       "      <td>47.60</td>\n",
       "      <td>4.51</td>\n",
       "    </tr>\n",
       "    <tr>\n",
       "      <th>13</th>\n",
       "      <td>3383.42</td>\n",
       "      <td>47.39</td>\n",
       "      <td>4.51</td>\n",
       "    </tr>\n",
       "    <tr>\n",
       "      <th>14</th>\n",
       "      <td>3388.37</td>\n",
       "      <td>47.19</td>\n",
       "      <td>4.51</td>\n",
       "    </tr>\n",
       "    <tr>\n",
       "      <th>15</th>\n",
       "      <td>3393.47</td>\n",
       "      <td>46.99</td>\n",
       "      <td>4.51</td>\n",
       "    </tr>\n",
       "    <tr>\n",
       "      <th>16</th>\n",
       "      <td>3398.74</td>\n",
       "      <td>46.79</td>\n",
       "      <td>4.51</td>\n",
       "    </tr>\n",
       "    <tr>\n",
       "      <th>17</th>\n",
       "      <td>3404.17</td>\n",
       "      <td>46.59</td>\n",
       "      <td>4.51</td>\n",
       "    </tr>\n",
       "    <tr>\n",
       "      <th>18</th>\n",
       "      <td>3409.76</td>\n",
       "      <td>46.39</td>\n",
       "      <td>4.51</td>\n",
       "    </tr>\n",
       "    <tr>\n",
       "      <th>19</th>\n",
       "      <td>3415.50</td>\n",
       "      <td>46.19</td>\n",
       "      <td>4.51</td>\n",
       "    </tr>\n",
       "    <tr>\n",
       "      <th>20</th>\n",
       "      <td>3421.41</td>\n",
       "      <td>45.99</td>\n",
       "      <td>4.51</td>\n",
       "    </tr>\n",
       "    <tr>\n",
       "      <th>21</th>\n",
       "      <td>3427.48</td>\n",
       "      <td>45.79</td>\n",
       "      <td>4.51</td>\n",
       "    </tr>\n",
       "    <tr>\n",
       "      <th>22</th>\n",
       "      <td>3433.72</td>\n",
       "      <td>45.59</td>\n",
       "      <td>4.51</td>\n",
       "    </tr>\n",
       "    <tr>\n",
       "      <th>23</th>\n",
       "      <td>3440.11</td>\n",
       "      <td>45.39</td>\n",
       "      <td>4.51</td>\n",
       "    </tr>\n",
       "    <tr>\n",
       "      <th>24</th>\n",
       "      <td>3446.66</td>\n",
       "      <td>45.19</td>\n",
       "      <td>4.51</td>\n",
       "    </tr>\n",
       "    <tr>\n",
       "      <th>25</th>\n",
       "      <td>3453.37</td>\n",
       "      <td>44.99</td>\n",
       "      <td>4.51</td>\n",
       "    </tr>\n",
       "    <tr>\n",
       "      <th>26</th>\n",
       "      <td>3460.25</td>\n",
       "      <td>44.79</td>\n",
       "      <td>4.51</td>\n",
       "    </tr>\n",
       "    <tr>\n",
       "      <th>27</th>\n",
       "      <td>3467.28</td>\n",
       "      <td>44.59</td>\n",
       "      <td>4.51</td>\n",
       "    </tr>\n",
       "    <tr>\n",
       "      <th>28</th>\n",
       "      <td>3474.47</td>\n",
       "      <td>44.39</td>\n",
       "      <td>4.51</td>\n",
       "    </tr>\n",
       "    <tr>\n",
       "      <th>29</th>\n",
       "      <td>3481.83</td>\n",
       "      <td>44.19</td>\n",
       "      <td>4.51</td>\n",
       "    </tr>\n",
       "    <tr>\n",
       "      <th>...</th>\n",
       "      <td>...</td>\n",
       "      <td>...</td>\n",
       "      <td>...</td>\n",
       "    </tr>\n",
       "    <tr>\n",
       "      <th>249970</th>\n",
       "      <td>34000157.60</td>\n",
       "      <td>-44.19</td>\n",
       "      <td>-50.00</td>\n",
       "    </tr>\n",
       "    <tr>\n",
       "      <th>249971</th>\n",
       "      <td>34003436.59</td>\n",
       "      <td>-44.39</td>\n",
       "      <td>-50.00</td>\n",
       "    </tr>\n",
       "    <tr>\n",
       "      <th>249972</th>\n",
       "      <td>34006715.74</td>\n",
       "      <td>-44.59</td>\n",
       "      <td>-50.00</td>\n",
       "    </tr>\n",
       "    <tr>\n",
       "      <th>249973</th>\n",
       "      <td>34009995.05</td>\n",
       "      <td>-44.79</td>\n",
       "      <td>-50.00</td>\n",
       "    </tr>\n",
       "    <tr>\n",
       "      <th>249974</th>\n",
       "      <td>34013274.52</td>\n",
       "      <td>-44.99</td>\n",
       "      <td>-50.00</td>\n",
       "    </tr>\n",
       "    <tr>\n",
       "      <th>249975</th>\n",
       "      <td>34016554.15</td>\n",
       "      <td>-45.19</td>\n",
       "      <td>-50.00</td>\n",
       "    </tr>\n",
       "    <tr>\n",
       "      <th>249976</th>\n",
       "      <td>34019833.95</td>\n",
       "      <td>-45.39</td>\n",
       "      <td>-50.00</td>\n",
       "    </tr>\n",
       "    <tr>\n",
       "      <th>249977</th>\n",
       "      <td>34023113.90</td>\n",
       "      <td>-45.59</td>\n",
       "      <td>-50.00</td>\n",
       "    </tr>\n",
       "    <tr>\n",
       "      <th>249978</th>\n",
       "      <td>34026394.01</td>\n",
       "      <td>-45.79</td>\n",
       "      <td>-50.00</td>\n",
       "    </tr>\n",
       "    <tr>\n",
       "      <th>249979</th>\n",
       "      <td>34029674.29</td>\n",
       "      <td>-45.99</td>\n",
       "      <td>-50.00</td>\n",
       "    </tr>\n",
       "    <tr>\n",
       "      <th>249980</th>\n",
       "      <td>34032954.72</td>\n",
       "      <td>-46.19</td>\n",
       "      <td>-50.00</td>\n",
       "    </tr>\n",
       "    <tr>\n",
       "      <th>249981</th>\n",
       "      <td>34036235.32</td>\n",
       "      <td>-46.39</td>\n",
       "      <td>-50.00</td>\n",
       "    </tr>\n",
       "    <tr>\n",
       "      <th>249982</th>\n",
       "      <td>34039516.07</td>\n",
       "      <td>-46.59</td>\n",
       "      <td>-50.00</td>\n",
       "    </tr>\n",
       "    <tr>\n",
       "      <th>249983</th>\n",
       "      <td>34042796.99</td>\n",
       "      <td>-46.79</td>\n",
       "      <td>-50.00</td>\n",
       "    </tr>\n",
       "    <tr>\n",
       "      <th>249984</th>\n",
       "      <td>34046078.07</td>\n",
       "      <td>-46.99</td>\n",
       "      <td>-50.00</td>\n",
       "    </tr>\n",
       "    <tr>\n",
       "      <th>249985</th>\n",
       "      <td>34049359.30</td>\n",
       "      <td>-47.19</td>\n",
       "      <td>-50.00</td>\n",
       "    </tr>\n",
       "    <tr>\n",
       "      <th>249986</th>\n",
       "      <td>34052640.70</td>\n",
       "      <td>-47.39</td>\n",
       "      <td>-50.00</td>\n",
       "    </tr>\n",
       "    <tr>\n",
       "      <th>249987</th>\n",
       "      <td>34055922.26</td>\n",
       "      <td>-47.60</td>\n",
       "      <td>-50.00</td>\n",
       "    </tr>\n",
       "    <tr>\n",
       "      <th>249988</th>\n",
       "      <td>34059203.98</td>\n",
       "      <td>-47.80</td>\n",
       "      <td>-50.00</td>\n",
       "    </tr>\n",
       "    <tr>\n",
       "      <th>249989</th>\n",
       "      <td>34062485.86</td>\n",
       "      <td>-48.00</td>\n",
       "      <td>-50.00</td>\n",
       "    </tr>\n",
       "    <tr>\n",
       "      <th>249990</th>\n",
       "      <td>34065767.90</td>\n",
       "      <td>-48.20</td>\n",
       "      <td>-50.00</td>\n",
       "    </tr>\n",
       "    <tr>\n",
       "      <th>249991</th>\n",
       "      <td>34069050.10</td>\n",
       "      <td>-48.40</td>\n",
       "      <td>-50.00</td>\n",
       "    </tr>\n",
       "    <tr>\n",
       "      <th>249992</th>\n",
       "      <td>34072332.47</td>\n",
       "      <td>-48.60</td>\n",
       "      <td>-50.00</td>\n",
       "    </tr>\n",
       "    <tr>\n",
       "      <th>249993</th>\n",
       "      <td>34075614.99</td>\n",
       "      <td>-48.80</td>\n",
       "      <td>-50.00</td>\n",
       "    </tr>\n",
       "    <tr>\n",
       "      <th>249994</th>\n",
       "      <td>34078897.67</td>\n",
       "      <td>-49.00</td>\n",
       "      <td>-50.00</td>\n",
       "    </tr>\n",
       "    <tr>\n",
       "      <th>249995</th>\n",
       "      <td>34082180.52</td>\n",
       "      <td>-49.20</td>\n",
       "      <td>-50.00</td>\n",
       "    </tr>\n",
       "    <tr>\n",
       "      <th>249996</th>\n",
       "      <td>34085463.52</td>\n",
       "      <td>-49.40</td>\n",
       "      <td>-50.00</td>\n",
       "    </tr>\n",
       "    <tr>\n",
       "      <th>249997</th>\n",
       "      <td>34088746.69</td>\n",
       "      <td>-49.60</td>\n",
       "      <td>-50.00</td>\n",
       "    </tr>\n",
       "    <tr>\n",
       "      <th>249998</th>\n",
       "      <td>34092030.01</td>\n",
       "      <td>-49.80</td>\n",
       "      <td>-50.00</td>\n",
       "    </tr>\n",
       "    <tr>\n",
       "      <th>249999</th>\n",
       "      <td>34095313.50</td>\n",
       "      <td>-50.00</td>\n",
       "      <td>-50.00</td>\n",
       "    </tr>\n",
       "  </tbody>\n",
       "</table>\n",
       "<p>250000 rows × 3 columns</p>\n",
       "</div>"
      ],
      "text/plain": [
       "                  0      1      2\n",
       "0           3333.74  50.00   4.51\n",
       "1           3336.60  49.80   4.51\n",
       "2           3339.62  49.60   4.51\n",
       "3           3342.80  49.40   4.51\n",
       "4           3346.14  49.20   4.51\n",
       "5           3349.64  49.00   4.51\n",
       "6           3353.30  48.80   4.51\n",
       "7           3357.12  48.60   4.51\n",
       "8           3361.10  48.40   4.51\n",
       "9           3365.24  48.20   4.51\n",
       "10          3369.55  48.00   4.51\n",
       "11          3374.01  47.80   4.51\n",
       "12          3378.64  47.60   4.51\n",
       "13          3383.42  47.39   4.51\n",
       "14          3388.37  47.19   4.51\n",
       "15          3393.47  46.99   4.51\n",
       "16          3398.74  46.79   4.51\n",
       "17          3404.17  46.59   4.51\n",
       "18          3409.76  46.39   4.51\n",
       "19          3415.50  46.19   4.51\n",
       "20          3421.41  45.99   4.51\n",
       "21          3427.48  45.79   4.51\n",
       "22          3433.72  45.59   4.51\n",
       "23          3440.11  45.39   4.51\n",
       "24          3446.66  45.19   4.51\n",
       "25          3453.37  44.99   4.51\n",
       "26          3460.25  44.79   4.51\n",
       "27          3467.28  44.59   4.51\n",
       "28          3474.47  44.39   4.51\n",
       "29          3481.83  44.19   4.51\n",
       "...             ...    ...    ...\n",
       "249970  34000157.60 -44.19 -50.00\n",
       "249971  34003436.59 -44.39 -50.00\n",
       "249972  34006715.74 -44.59 -50.00\n",
       "249973  34009995.05 -44.79 -50.00\n",
       "249974  34013274.52 -44.99 -50.00\n",
       "249975  34016554.15 -45.19 -50.00\n",
       "249976  34019833.95 -45.39 -50.00\n",
       "249977  34023113.90 -45.59 -50.00\n",
       "249978  34026394.01 -45.79 -50.00\n",
       "249979  34029674.29 -45.99 -50.00\n",
       "249980  34032954.72 -46.19 -50.00\n",
       "249981  34036235.32 -46.39 -50.00\n",
       "249982  34039516.07 -46.59 -50.00\n",
       "249983  34042796.99 -46.79 -50.00\n",
       "249984  34046078.07 -46.99 -50.00\n",
       "249985  34049359.30 -47.19 -50.00\n",
       "249986  34052640.70 -47.39 -50.00\n",
       "249987  34055922.26 -47.60 -50.00\n",
       "249988  34059203.98 -47.80 -50.00\n",
       "249989  34062485.86 -48.00 -50.00\n",
       "249990  34065767.90 -48.20 -50.00\n",
       "249991  34069050.10 -48.40 -50.00\n",
       "249992  34072332.47 -48.60 -50.00\n",
       "249993  34075614.99 -48.80 -50.00\n",
       "249994  34078897.67 -49.00 -50.00\n",
       "249995  34082180.52 -49.20 -50.00\n",
       "249996  34085463.52 -49.40 -50.00\n",
       "249997  34088746.69 -49.60 -50.00\n",
       "249998  34092030.01 -49.80 -50.00\n",
       "249999  34095313.50 -50.00 -50.00\n",
       "\n",
       "[250000 rows x 3 columns]"
      ]
     },
     "execution_count": 15,
     "metadata": {},
     "output_type": "execute_result"
    }
   ],
   "source": [
    "resdf.round(2)"
   ]
  },
  {
   "cell_type": "code",
   "execution_count": 16,
   "metadata": {},
   "outputs": [
    {
     "name": "stdout",
     "output_type": "stream",
     "text": [
      "50.0 4.509018036072149\n",
      "45.59118236472946 4.30861723446894\n"
     ]
    },
    {
     "data": {
      "image/png": "[encoded data removed]",
      "text/plain": [
       "<Figure size 432x288 with 1 Axes>"
      ]
     },
     "metadata": {},
     "output_type": "display_data"
    }
   ],
   "source": [
    "plt.scatter(x, y)\n",
    "\n",
    "for i in np.arange(0, 500, 250):\n",
    "    b = resdf.iloc[i][1]\n",
    "    w = resdf.iloc[i][2]\n",
    "    yhat = f(x, [b, w])\n",
    "    print(b, w)\n",
    "    plt.scatter(x, yhat)"
   ]
  },
  {
   "cell_type": "code",
   "execution_count": null,
   "metadata": {},
   "outputs": [],
   "source": []
  },
  {
   "cell_type": "markdown",
   "metadata": {},
   "source": [
    "### 최급하강법"
   ]
  },
  {
   "cell_type": "code",
   "execution_count": 17,
   "metadata": {},
   "outputs": [],
   "source": [
    "def f(x):\n",
    "    return (x - 1)**2\n",
    "def f_(x):\n",
    "    return 2*(x-1)"
   ]
  },
  {
   "cell_type": "code",
   "execution_count": 18,
   "metadata": {},
   "outputs": [],
   "source": [
    "def sgd_f(x, u=0.4):\n",
    "    return x - (u * f_(x))"
   ]
  },
  {
   "cell_type": "code",
   "execution_count": 19,
   "metadata": {},
   "outputs": [
    {
     "data": {
      "text/plain": [
       "[<matplotlib.lines.Line2D at 0x1168d8fd0>]"
      ]
     },
     "execution_count": 19,
     "metadata": {},
     "output_type": "execute_result"
    },
    {
     "data": {
      "image/png": "[encoded data removed]",
      "text/plain": [
       "<Figure size 720x216 with 2 Axes>"
      ]
     },
     "metadata": {},
     "output_type": "display_data"
    }
   ],
   "source": [
    "xx = np.linspace(-5, 7, 100)\n",
    "y = f(xx)\n",
    "\n",
    "plt.figure(figsize=(10, 3))\n",
    "plt.subplot(121)\n",
    "plt.plot(xx, y)\n",
    "\n",
    "y = f_(xx)\n",
    "plt.subplot(122)\n",
    "plt.plot(xx, y)\n"
   ]
  },
  {
   "cell_type": "code",
   "execution_count": 20,
   "metadata": {},
   "outputs": [
    {
     "name": "stdout",
     "output_type": "stream",
     "text": [
      "1.4\n",
      "1.08\n",
      "1.016\n",
      "1.0032\n",
      "1.00064\n",
      "1.000128\n",
      "1.0000256\n",
      "1.00000512\n",
      "1.000001024\n",
      "1.0000002048\n",
      "1.00000004096\n",
      "1.000000008192\n",
      "1.0000000016384\n",
      "1.00000000032768\n",
      "1.000000000065536\n",
      "1.0000000000131073\n",
      "1.0000000000026215\n",
      "1.0000000000005242\n",
      "1.0000000000001048\n",
      "1.0000000000000209\n",
      "1.0000000000000042\n",
      "1.0000000000000009\n",
      "1.0000000000000002\n",
      "1.0\n",
      "1.0\n",
      "1.0\n",
      "1.0\n",
      "1.0\n",
      "1.0\n",
      "1.0\n",
      "1.0\n"
     ]
    }
   ],
   "source": [
    "x1 = sgd_f(3)\n",
    "print(x1)\n",
    "for _ in range(30):\n",
    "    x1 = sgd_f(x1) # 다음 좌표 \n",
    "    print(x1)\n",
    "    \n",
    "## 점점 최저점으로 다가간다 (0으로 다가감))"
   ]
  },
  {
   "cell_type": "code",
   "execution_count": null,
   "metadata": {},
   "outputs": [],
   "source": []
  },
  {
   "cell_type": "code",
   "execution_count": 23,
   "metadata": {},
   "outputs": [
    {
     "data": {
      "text/plain": [
       "array([58, 70, 81, 84])"
      ]
     },
     "execution_count": 23,
     "metadata": {},
     "output_type": "execute_result"
    }
   ],
   "source": [
    "x"
   ]
  },
  {
   "cell_type": "code",
   "execution_count": 27,
   "metadata": {},
   "outputs": [
    {
     "data": {
      "text/plain": [
       "array([374, 385, 375, 401])"
      ]
     },
     "execution_count": 27,
     "metadata": {},
     "output_type": "execute_result"
    }
   ],
   "source": [
    "y"
   ]
  },
  {
   "cell_type": "code",
   "execution_count": 29,
   "metadata": {},
   "outputs": [],
   "source": [
    "def f(x):\n",
    "    return \n",
    "\n",
    "def sgd_f0(yh, y, u=0.4):\n",
    "    return t0 - u * np.sum(yh - y) \n",
    "\n",
    "def sgd_f1(yh, y, u=0.4):\n",
    "    return t0 - u * np.sum(yh - y) * x "
   ]
  },
  {
   "cell_type": "code",
   "execution_count": 28,
   "metadata": {},
   "outputs": [
    {
     "name": "stdout",
     "output_type": "stream",
     "text": [
      "103.80000000000001\n"
     ]
    }
   ],
   "source": [
    "x1 = sgd_f0(58, 374, 1, 2)\n",
    "print(x1)"
   ]
  },
  {
   "cell_type": "code",
   "execution_count": null,
   "metadata": {},
   "outputs": [],
   "source": [
    "x1 = sgd_f0(3)\n",
    "print(x1)\n",
    "for _ in range(30):\n",
    "    x1 = sgd_f(x1) # 다음 좌표 \n",
    "    print(x1)"
   ]
  },
  {
   "cell_type": "code",
   "execution_count": null,
   "metadata": {},
   "outputs": [],
   "source": []
  },
  {
   "cell_type": "code",
   "execution_count": null,
   "metadata": {},
   "outputs": [],
   "source": []
  },
  {
   "cell_type": "code",
   "execution_count": 1,
   "metadata": {},
   "outputs": [],
   "source": [
    "\n",
    "def sum_of_squares_gradient(v):\n",
    "    return [2 * v_i for v_i in v]"
   ]
  },
  {
   "cell_type": "code",
   "execution_count": null,
   "metadata": {},
   "outputs": [],
   "source": []
  }
 ],
 "metadata": {
  "kernelspec": {
   "display_name": "Python 3",
   "language": "python",
   "name": "python3"
  },
  "language_info": {
   "codemirror_mode": {
    "name": "ipython",
    "version": 3
   },
   "file_extension": ".py",
   "mimetype": "text/x-python",
   "name": "python",
   "nbconvert_exporter": "python",
   "pygments_lexer": "ipython3",
   "version": "3.6.5"
  }
 },
 "nbformat": 4,
 "nbformat_minor": 2
}
