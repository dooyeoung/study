{
 "cells": [
  {
   "cell_type": "markdown",
   "metadata": {},
   "source": [
    "## 부분적분"
   ]
  },
  {
   "cell_type": "markdown",
   "metadata": {},
   "source": [
    "$ \\dfrac{d}{dx} f(x)g(x) = \\dfrac{d}{dx}f(x) \\cdot g(x) + f(x) \\cdot \\dfrac{d}{dx}g(x)$ <br>\n",
    "\n",
    "$ \\int \\dfrac{d}{dx}f(x)\\cdot g(x)= \\int \\dfrac{d}{dx}f(x) \\cdot g(x) + \\int{ f(x) \\cdot \\dfrac{d}{dx}g(x)} $ <br>\n",
    "\n",
    "$ f(x)\\cdot g(x)= \\int \\dfrac{d}{dx}f(x) \\cdot g(x) + \\int{ f(x) \\cdot \\dfrac{d}{dx}g(x)} $ <br>\n",
    "\n",
    "$ \\int{ f(x) \\cdot \\dfrac{d}{dx}g(x)} = f(x)\\cdot g(x) - \\int \\dfrac{d}{dx}f(x) \\cdot g(x) $"
   ]
  },
  {
   "cell_type": "markdown",
   "metadata": {},
   "source": [
    "$\n",
    "\\int fg' = fg - \\int f'g \\\\\n",
    "\\int \\ln(x) dx = \\int \\ln(x) \\cdot 1 dx\n",
    "$<br>\n",
    " \n",
    "$\n",
    "f = \\ln(x) \\;,\\; f' = \\dfrac{1}{x} \\\\\n",
    "g = x \\;, \\;g' = 1 \\\\\n",
    "\\int \\ln(x) dx = x \\cdot \\ln(x) - \\int \\left( \\dfrac{1}{x} \\cdot x \\right) \\\\\n",
    "\\int \\ln(x) dx = x \\cdot \\ln(x) - \\int ( 1) \\\\\n",
    "\\int \\ln(x) dx = x \\cdot \\ln(x) - \\int ( 1 \\cdot x^0 ) \\\\\n",
    "\\int \\ln(x) dx = x \\cdot \\ln(x) - \\int ( 1 \\cdot \\dfrac{1}{1}x^1 ) \\\\\n",
    "\\int \\ln(x) dx = x \\cdot \\ln(x) - x \\\\\n",
    "$\n",
    "\n",
    "\n",
    "\n",
    "미분쉬움 -------------- 미분어렵<br>\n",
    "적분어렵 -------------- 적분쉬움<br>\n",
    "로그 > 다항식 > 삼각함수 > 지수"
   ]
  }
 ],
 "metadata": {
  "kernelspec": {
   "display_name": "Python 3",
   "language": "python",
   "name": "python3"
  },
  "language_info": {
   "codemirror_mode": {
    "name": "ipython",
    "version": 3
   },
   "file_extension": ".py",
   "mimetype": "text/x-python",
   "name": "python",
   "nbconvert_exporter": "python",
   "pygments_lexer": "ipython3",
   "version": "3.6.4"
  }
 },
 "nbformat": 4,
 "nbformat_minor": 2
}
