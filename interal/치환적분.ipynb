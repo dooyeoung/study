{
 "cells": [
  {
   "cell_type": "markdown",
   "metadata": {},
   "source": [
    "## 치환 적분"
   ]
  },
  {
   "cell_type": "markdown",
   "metadata": {},
   "source": [
    "$ \\int(x^2 -3)^2\\cdot 2x \\; dx $<br>\n",
    "\n",
    "$ t = x^2-3 \\;$ <br>\n",
    "$ \\dfrac{dt}{dx} = 2x  \\; , \\;  dt = 2x \\cdot dx $<br>\n",
    "\n",
    "$\\int t^2 \\; dt = \\dfrac{1}{3}t^3 + c $ <br>\n",
    "$\\int t^2 \\; dt = \\dfrac{1}{3}(x^2-3)^3 + c $"
   ]
  },
  {
   "cell_type": "code",
   "execution_count": null,
   "metadata": {},
   "outputs": [],
   "source": []
  },
  {
   "cell_type": "code",
   "execution_count": null,
   "metadata": {},
   "outputs": [],
   "source": [
    "\n"
   ]
  }
 ],
 "metadata": {
  "kernelspec": {
   "display_name": "Python 3",
   "language": "python",
   "name": "python3"
  },
  "language_info": {
   "codemirror_mode": {
    "name": "ipython",
    "version": 3
   },
   "file_extension": ".py",
   "mimetype": "text/x-python",
   "name": "python",
   "nbconvert_exporter": "python",
   "pygments_lexer": "ipython3",
   "version": "3.6.4"
  }
 },
 "nbformat": 4,
 "nbformat_minor": 2
}
