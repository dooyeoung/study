{
 "cells": [
  {
   "cell_type": "code",
   "execution_count": 3,
   "metadata": {},
   "outputs": [],
   "source": [
    "%matplotlib inline"
   ]
  },
  {
   "cell_type": "code",
   "execution_count": 14,
   "metadata": {},
   "outputs": [],
   "source": [
    "from scipy.linalg import toeplitz"
   ]
  },
  {
   "cell_type": "code",
   "execution_count": 83,
   "metadata": {},
   "outputs": [
    {
     "data": {
      "image/png": "[encoded data removed]",
      "text/plain": [
       "<Figure size 432x288 with 1 Axes>"
      ]
     },
     "metadata": {},
     "output_type": "display_data"
    }
   ],
   "source": [
    "s = np.sin(2 * np.pi * 0.125 * np.arange(15))\n",
    "plt.plot(s, 'ro-')\n",
    "plt.xlim(-0.5, 20.5)\n",
    "plt.ylim(-1.1, 1.1)\n",
    "plt.show()"
   ]
  },
  {
   "cell_type": "code",
   "execution_count": 84,
   "metadata": {},
   "outputs": [
    {
     "data": {
      "text/plain": [
       "array([0.00, 0.71, 1.00, 0.71, 0.00, -0.71, -1.00, -0.71, -0.00, 0.71, 1.00, 0.71, 0.00, -0.71, -1.00])"
      ]
     },
     "execution_count": 84,
     "metadata": {},
     "output_type": "execute_result"
    }
   ],
   "source": [
    "s"
   ]
  },
  {
   "cell_type": "code",
   "execution_count": 85,
   "metadata": {},
   "outputs": [
    {
     "data": {
      "text/plain": [
       "(13,\n",
       " array([0.00, 0.00, 0.00, 0.00, 0.00, 0.00, 0.00, 0.00, 0.00, 0.00, 0.00, 0.00, 0.00]))"
      ]
     },
     "execution_count": 85,
     "metadata": {},
     "output_type": "execute_result"
    }
   ],
   "source": [
    "#20개에서 2개빼기\n",
    "zeros = np.zeros(s.shape[0] - 2)\n",
    "len(zeros), zeros"
   ]
  },
  {
   "cell_type": "code",
   "execution_count": 86,
   "metadata": {},
   "outputs": [
    {
     "data": {
      "text/plain": [
       "(14,\n",
       " array([-1.00, 0.00, 0.00, 0.00, 0.00, 0.00, 0.00, 0.00, 0.00, 0.00, 0.00, 0.00, 0.00, 0.00]))"
      ]
     },
     "execution_count": 86,
     "metadata": {},
     "output_type": "execute_result"
    }
   ],
   "source": [
    "# 마지막 원소 이어붙이기\n",
    "r_ = np.r_[s[-1], zeros]\n",
    "len(r_), r_"
   ]
  },
  {
   "cell_type": "code",
   "execution_count": null,
   "metadata": {},
   "outputs": [],
   "source": []
  },
  {
   "cell_type": "code",
   "execution_count": 87,
   "metadata": {
    "scrolled": true
   },
   "outputs": [
    {
     "data": {
      "text/plain": [
       "array([[1, 2, 1, 1, 0, 0],\n",
       "       [2, 1, 2, 1, 1, 0],\n",
       "       [1, 2, 1, 2, 1, 1],\n",
       "       [1, 1, 2, 1, 2, 1],\n",
       "       [0, 1, 1, 2, 1, 2],\n",
       "       [0, 0, 1, 1, 2, 1]])"
      ]
     },
     "execution_count": 87,
     "metadata": {},
     "output_type": "execute_result"
    }
   ],
   "source": [
    "# 토플리츠 행렬\n",
    "toeplitz([1,2,1,1,0,0])"
   ]
  },
  {
   "cell_type": "code",
   "execution_count": 88,
   "metadata": {},
   "outputs": [
    {
     "data": {
      "text/plain": [
       "array([-1.00, -0.71, 0.00, 0.71, 1.00, 0.71, -0.00, -0.71, -1.00, -0.71, 0.00, 0.71, 1.00, 0.71, 0.00])"
      ]
     },
     "execution_count": 88,
     "metadata": {},
     "output_type": "execute_result"
    }
   ],
   "source": [
    "# 역으로 정렬\n",
    "s[::-1]"
   ]
  },
  {
   "cell_type": "code",
   "execution_count": 112,
   "metadata": {
    "scrolled": true
   },
   "outputs": [
    {
     "data": {
      "text/plain": [
       "array([[-1.00, -0.71, 0.00, 0.71, 1.00, 0.71, -0.00, -0.71, -1.00, -0.71, 0.00, 0.71, 1.00, 0.71, 0.00],\n",
       "       [0.00, -1.00, -0.71, 0.00, 0.71, 1.00, 0.71, -0.00, -0.71, -1.00, -0.71, 0.00, 0.71, 1.00, 0.71],\n",
       "       [0.00, 0.00, -1.00, -0.71, 0.00, 0.71, 1.00, 0.71, -0.00, -0.71, -1.00, -0.71, 0.00, 0.71, 1.00],\n",
       "       [0.00, 0.00, 0.00, -1.00, -0.71, 0.00, 0.71, 1.00, 0.71, -0.00, -0.71, -1.00, -0.71, 0.00, 0.71],\n",
       "       [0.00, 0.00, 0.00, 0.00, -1.00, -0.71, 0.00, 0.71, 1.00, 0.71, -0.00, -0.71, -1.00, -0.71, 0.00],\n",
       "       [0.00, 0.00, 0.00, 0.00, 0.00, -1.00, -0.71, 0.00, 0.71, 1.00, 0.71, -0.00, -0.71, -1.00, -0.71],\n",
       "       [0.00, 0.00, 0.00, 0.00, 0.00, 0.00, -1.00, -0.71, 0.00, 0.71, 1.00, 0.71, -0.00, -0.71, -1.00],\n",
       "       [0.00, 0.00, 0.00, 0.00, 0.00, 0.00, 0.00, -1.00, -0.71, 0.00, 0.71, 1.00, 0.71, -0.00, -0.71],\n",
       "       [0.00, 0.00, 0.00, 0.00, 0.00, 0.00, 0.00, 0.00, -1.00, -0.71, 0.00, 0.71, 1.00, 0.71, -0.00],\n",
       "       [0.00, 0.00, 0.00, 0.00, 0.00, 0.00, 0.00, 0.00, 0.00, -1.00, -0.71, 0.00, 0.71, 1.00, 0.71],\n",
       "       [0.00, 0.00, 0.00, 0.00, 0.00, 0.00, 0.00, 0.00, 0.00, 0.00, -1.00, -0.71, 0.00, 0.71, 1.00],\n",
       "       [0.00, 0.00, 0.00, 0.00, 0.00, 0.00, 0.00, 0.00, 0.00, 0.00, 0.00, -1.00, -0.71, 0.00, 0.71],\n",
       "       [0.00, 0.00, 0.00, 0.00, 0.00, 0.00, 0.00, 0.00, 0.00, 0.00, 0.00, 0.00, -1.00, -0.71, 0.00],\n",
       "       [0.00, 0.00, 0.00, 0.00, 0.00, 0.00, 0.00, 0.00, 0.00, 0.00, 0.00, 0.00, 0.00, -1.00, -0.71]])"
      ]
     },
     "execution_count": 112,
     "metadata": {},
     "output_type": "execute_result"
    }
   ],
   "source": [
    "toeplitz(r_, s[::-1]).round(2)"
   ]
  },
  {
   "cell_type": "code",
   "execution_count": 90,
   "metadata": {
    "scrolled": true
   },
   "outputs": [
    {
     "data": {
      "text/plain": [
       "array([[0.00, 0.71, 1.00],\n",
       "       [0.71, 1.00, 0.71],\n",
       "       [1.00, 0.71, 0.00],\n",
       "       [0.71, 0.00, -0.71],\n",
       "       [0.00, -0.71, -1.00]])"
      ]
     },
     "execution_count": 90,
     "metadata": {},
     "output_type": "execute_result"
    }
   ],
   "source": [
    "S = np.fliplr(toeplitz(np.r_[s[-1], np.zeros(s.shape[0] - 2)], s[::-1]))\n",
    "S[:5, :3]"
   ]
  },
  {
   "cell_type": "code",
   "execution_count": 111,
   "metadata": {},
   "outputs": [],
   "source": [
    "np.set_printoptions(edgeitems=30, linewidth=100000, \n",
    "    formatter=dict(float=lambda x: \"%.2f\" % x))"
   ]
  },
  {
   "cell_type": "code",
   "execution_count": 113,
   "metadata": {},
   "outputs": [
    {
     "data": {
      "text/plain": [
       "array([0.00, 0.71, 1.00, 0.71, 0.00, -0.71, -1.00, -0.71, -0.00, 0.71, 1.00, 0.71, 0.00, -0.71, -1.00])"
      ]
     },
     "execution_count": 113,
     "metadata": {},
     "output_type": "execute_result"
    }
   ],
   "source": [
    "s"
   ]
  },
  {
   "cell_type": "code",
   "execution_count": 127,
   "metadata": {
    "scrolled": false
   },
   "outputs": [
    {
     "data": {
      "text/plain": [
       "array([[0.00, 0.71, 1.00, 0.71, 0.00, -0.71, -1.00, -0.71, -0.00, 0.71, 1.00, 0.71, 0.00, -0.71, -1.00],\n",
       "       [0.71, 1.00, 0.71, 0.00, -0.71, -1.00, -0.71, -0.00, 0.71, 1.00, 0.71, 0.00, -0.71, -1.00, 0.00],\n",
       "       [1.00, 0.71, 0.00, -0.71, -1.00, -0.71, -0.00, 0.71, 1.00, 0.71, 0.00, -0.71, -1.00, 0.00, 0.00],\n",
       "       [0.71, 0.00, -0.71, -1.00, -0.71, -0.00, 0.71, 1.00, 0.71, 0.00, -0.71, -1.00, 0.00, 0.00, 0.00],\n",
       "       [0.00, -0.71, -1.00, -0.71, -0.00, 0.71, 1.00, 0.71, 0.00, -0.71, -1.00, 0.00, 0.00, 0.00, 0.00],\n",
       "       [-0.71, -1.00, -0.71, -0.00, 0.71, 1.00, 0.71, 0.00, -0.71, -1.00, 0.00, 0.00, 0.00, 0.00, 0.00],\n",
       "       [-1.00, -0.71, -0.00, 0.71, 1.00, 0.71, 0.00, -0.71, -1.00, 0.00, 0.00, 0.00, 0.00, 0.00, 0.00],\n",
       "       [-0.71, -0.00, 0.71, 1.00, 0.71, 0.00, -0.71, -1.00, 0.00, 0.00, 0.00, 0.00, 0.00, 0.00, 0.00],\n",
       "       [-0.00, 0.71, 1.00, 0.71, 0.00, -0.71, -1.00, 0.00, 0.00, 0.00, 0.00, 0.00, 0.00, 0.00, 0.00],\n",
       "       [0.71, 1.00, 0.71, 0.00, -0.71, -1.00, 0.00, 0.00, 0.00, 0.00, 0.00, 0.00, 0.00, 0.00, 0.00],\n",
       "       [1.00, 0.71, 0.00, -0.71, -1.00, 0.00, 0.00, 0.00, 0.00, 0.00, 0.00, 0.00, 0.00, 0.00, 0.00],\n",
       "       [0.71, 0.00, -0.71, -1.00, 0.00, 0.00, 0.00, 0.00, 0.00, 0.00, 0.00, 0.00, 0.00, 0.00, 0.00],\n",
       "       [0.00, -0.71, -1.00, 0.00, 0.00, 0.00, 0.00, 0.00, 0.00, 0.00, 0.00, 0.00, 0.00, 0.00, 0.00],\n",
       "       [-0.71, -1.00, 0.00, 0.00, 0.00, 0.00, 0.00, 0.00, 0.00, 0.00, 0.00, 0.00, 0.00, 0.00, 0.00]])"
      ]
     },
     "execution_count": 127,
     "metadata": {},
     "output_type": "execute_result"
    }
   ],
   "source": [
    "S"
   ]
  },
  {
   "cell_type": "code",
   "execution_count": 128,
   "metadata": {},
   "outputs": [
    {
     "data": {
      "text/plain": [
       "(14, 15)"
      ]
     },
     "execution_count": 128,
     "metadata": {},
     "output_type": "execute_result"
    }
   ],
   "source": [
    "S.shape"
   ]
  },
  {
   "cell_type": "code",
   "execution_count": 116,
   "metadata": {},
   "outputs": [
    {
     "data": {
      "text/plain": [
       "(15,)"
      ]
     },
     "execution_count": 116,
     "metadata": {},
     "output_type": "execute_result"
    }
   ],
   "source": [
    "s.shape"
   ]
  },
  {
   "cell_type": "code",
   "execution_count": null,
   "metadata": {},
   "outputs": [],
   "source": []
  },
  {
   "cell_type": "code",
   "execution_count": null,
   "metadata": {},
   "outputs": [],
   "source": []
  },
  {
   "cell_type": "code",
   "execution_count": 177,
   "metadata": {
    "scrolled": false
   },
   "outputs": [
    {
     "data": {
      "text/plain": [
       "array([0.71, 0.00, -0.71, -1.00, -0.71, -0.00, 0.71, 1.00, 0.71, 0.00, -0.71, -1.00, 0.00])"
      ]
     },
     "execution_count": 177,
     "metadata": {},
     "output_type": "execute_result"
    }
   ],
   "source": [
    "# 마지막행 제외하고, 3번째 열 가져오기\n",
    "S[:-1, 3]"
   ]
  },
  {
   "cell_type": "code",
   "execution_count": 194,
   "metadata": {
    "scrolled": false
   },
   "outputs": [
    {
     "data": {
      "text/plain": [
       "((13, 3, 1), (13,))"
      ]
     },
     "execution_count": 194,
     "metadata": {},
     "output_type": "execute_result"
    }
   ],
   "source": [
    "# 마지막행 제외하고 0~3번째을 차원늘리기\n",
    "X_train = S[:-1, :3][:, :, np.newaxis]\n",
    "\n",
    "# 마지막행 제외하고 3번째열 가져오기\n",
    "Y_train = S[:-1, 3]\n",
    "X_train.shape, Y_train.shape"
   ]
  },
  {
   "cell_type": "code",
   "execution_count": 195,
   "metadata": {},
   "outputs": [
    {
     "data": {
      "text/plain": [
       "array([0.00, 0.71, 1.00, 0.71, 0.00, -0.71, -1.00, -0.71, -0.00, 0.71, 1.00, 0.71, 0.00, -0.71, -1.00])"
      ]
     },
     "execution_count": 195,
     "metadata": {},
     "output_type": "execute_result"
    }
   ],
   "source": [
    "s"
   ]
  },
  {
   "cell_type": "code",
   "execution_count": 196,
   "metadata": {
    "scrolled": true
   },
   "outputs": [
    {
     "data": {
      "text/plain": [
       "array([0.71, 0.00, -0.71, -1.00, -0.71, -0.00, 0.71, 1.00, 0.71, 0.00, -0.71, -1.00, 0.00])"
      ]
     },
     "execution_count": 196,
     "metadata": {},
     "output_type": "execute_result"
    }
   ],
   "source": [
    "Y_train"
   ]
  },
  {
   "cell_type": "code",
   "execution_count": 197,
   "metadata": {
    "scrolled": true
   },
   "outputs": [
    {
     "data": {
      "text/plain": [
       "array([[[0.00],\n",
       "        [0.71],\n",
       "        [1.00]],\n",
       "\n",
       "       [[0.71],\n",
       "        [1.00],\n",
       "        [0.71]],\n",
       "\n",
       "       [[1.00],\n",
       "        [0.71],\n",
       "        [0.00]],\n",
       "\n",
       "       [[0.71],\n",
       "        [0.00],\n",
       "        [-0.71]],\n",
       "\n",
       "       [[0.00],\n",
       "        [-0.71],\n",
       "        [-1.00]],\n",
       "\n",
       "       [[-0.71],\n",
       "        [-1.00],\n",
       "        [-0.71]],\n",
       "\n",
       "       [[-1.00],\n",
       "        [-0.71],\n",
       "        [-0.00]],\n",
       "\n",
       "       [[-0.71],\n",
       "        [-0.00],\n",
       "        [0.71]],\n",
       "\n",
       "       [[-0.00],\n",
       "        [0.71],\n",
       "        [1.00]],\n",
       "\n",
       "       [[0.71],\n",
       "        [1.00],\n",
       "        [0.71]],\n",
       "\n",
       "       [[1.00],\n",
       "        [0.71],\n",
       "        [0.00]],\n",
       "\n",
       "       [[0.71],\n",
       "        [0.00],\n",
       "        [-0.71]],\n",
       "\n",
       "       [[0.00],\n",
       "        [-0.71],\n",
       "        [-1.00]]])"
      ]
     },
     "execution_count": 197,
     "metadata": {},
     "output_type": "execute_result"
    }
   ],
   "source": [
    "X_train"
   ]
  },
  {
   "cell_type": "code",
   "execution_count": null,
   "metadata": {},
   "outputs": [],
   "source": []
  },
  {
   "cell_type": "code",
   "execution_count": null,
   "metadata": {},
   "outputs": [],
   "source": []
  },
  {
   "cell_type": "code",
   "execution_count": 198,
   "metadata": {},
   "outputs": [
    {
     "data": {
      "image/png": "[encoded data removed]",
      "text/plain": [
       "<Figure size 432x288 with 2 Axes>"
      ]
     },
     "metadata": {},
     "output_type": "display_data"
    }
   ],
   "source": [
    "plt.subplot(211)\n",
    "plt.plot([0, 1, 2], X_train[0].flatten(), 'bo-', label=\"input sequence\")\n",
    "plt.plot([3], Y_train[0], 'ro', label=\"target\")\n",
    "plt.xlim(-0.5, 4.5)\n",
    "plt.ylim(-1.1, 1.1)\n",
    "plt.legend()\n",
    "plt.title(\"First sample sequence\")\n",
    "plt.subplot(212)\n",
    "plt.plot([1, 2, 3], X_train[1].flatten(), 'bo-', label=\"input sequence\")\n",
    "plt.plot([4], Y_train[1], 'ro', label=\"target\")\n",
    "plt.xlim(-0.5, 4.5)\n",
    "plt.ylim(-1.1, 1.1)\n",
    "plt.legend()\n",
    "plt.title(\"Second sample sequence\")\n",
    "plt.tight_layout()\n",
    "plt.show()"
   ]
  },
  {
   "cell_type": "code",
   "execution_count": 199,
   "metadata": {},
   "outputs": [],
   "source": [
    "from keras.models import Sequential\n",
    "from keras.layers import SimpleRNN, Dense\n",
    "\n",
    "np.random.seed(0)\n",
    "model = Sequential()\n",
    "model.add(SimpleRNN(10, input_shape=(3, 1)))\n",
    "model.add(Dense(1, activation=\"linear\"))\n",
    "model.compile(loss='mse', optimizer='sgd')"
   ]
  },
  {
   "cell_type": "code",
   "execution_count": 200,
   "metadata": {},
   "outputs": [
    {
     "data": {
      "image/png": "[encoded data removed]",
      "text/plain": [
       "<Figure size 432x288 with 1 Axes>"
      ]
     },
     "metadata": {},
     "output_type": "display_data"
    }
   ],
   "source": [
    "plt.plot(Y_train, 'ro-', label=\"target\")\n",
    "plt.plot(model.predict(X_train), 'bs-', label=\"output\")\n",
    "plt.xlim(-0.5, 20.5)\n",
    "plt.ylim(-1.1, 1.1)\n",
    "plt.legend()\n",
    "plt.title(\"Before training\")\n",
    "plt.show()"
   ]
  },
  {
   "cell_type": "code",
   "execution_count": 99,
   "metadata": {},
   "outputs": [
    {
     "data": {
      "image/png": "[encoded data removed]",
      "text/plain": [
       "<Figure size 432x288 with 1 Axes>"
      ]
     },
     "metadata": {},
     "output_type": "display_data"
    }
   ],
   "source": [
    "history = model.fit(X_train, Y_train, epochs=500, verbose=0)\n",
    "plt.plot(history.history[\"loss\"])\n",
    "plt.title(\"Loss\")\n",
    "plt.show()"
   ]
  },
  {
   "cell_type": "code",
   "execution_count": 100,
   "metadata": {},
   "outputs": [
    {
     "data": {
      "image/png": "[encoded data removed]",
      "text/plain": [
       "<Figure size 432x288 with 1 Axes>"
      ]
     },
     "metadata": {},
     "output_type": "display_data"
    }
   ],
   "source": [
    "plt.plot(Y_train, 'ro-', label=\"target\")\n",
    "plt.plot(model.predict(X_train[:,:,:]), 'bs-', label=\"output\")\n",
    "plt.xlim(-0.5, 20.5)\n",
    "plt.ylim(-1.1, 1.1)\n",
    "plt.legend()\n",
    "plt.title(\"After training\")\n",
    "plt.show()"
   ]
  },
  {
   "cell_type": "code",
   "execution_count": null,
   "metadata": {},
   "outputs": [],
   "source": []
  },
  {
   "cell_type": "code",
   "execution_count": null,
   "metadata": {},
   "outputs": [],
   "source": []
  }
 ],
 "metadata": {
  "kernelspec": {
   "display_name": "Python 3",
   "language": "python",
   "name": "python3"
  },
  "language_info": {
   "codemirror_mode": {
    "name": "ipython",
    "version": 3
   },
   "file_extension": ".py",
   "mimetype": "text/x-python",
   "name": "python",
   "nbconvert_exporter": "python",
   "pygments_lexer": "ipython3",
   "version": "3.6.5"
  }
 },
 "nbformat": 4,
 "nbformat_minor": 2
}
