{
 "cells": [
  {
   "cell_type": "markdown",
   "metadata": {},
   "source": [
    "## 기본 공식\n",
    "\n",
    "$\n",
    "\\lim_{x \\to \\infty} \\left( 1 + \\frac{1}{x} \\right)^x = e \\\\\n",
    "\\lim_{x \\to 0 } \\left( 1 + x \\right)^\\frac{1}{x} = e \\\\\n",
    "$\n",
    "<br>\n",
    "\n",
    "[youtube - 자연상수 e 및 자연로그](https://www.youtube.com/watch?v=FtujrQVP-9U)"
   ]
  },
  {
   "cell_type": "markdown",
   "metadata": {},
   "source": [
    "### 1. 자연상수 로그 \n",
    "$ \\lim_{x \\to 0} \\dfrac{\\ln(1+x)}{x} = 1 $\n",
    "\n",
    "$\n",
    "= \\lim_{x \\to 0} \\dfrac{1}{x} \\cdot \\ln(1+x) \\\\\n",
    "= \\lim_{x \\to 0} \\ln(1+x)^\\frac{1}{x} \\\\\n",
    "= \\lim_{x \\to 0} \\ln(e) \\\\\n",
    "= 1\n",
    "$"
   ]
  },
  {
   "cell_type": "markdown",
   "metadata": {},
   "source": [
    "### 2. 자연상수 지수\n",
    "\n",
    "$ \\lim_{x \\to 0} \\dfrac{e^2-1}{x} $<br>\n",
    "$ e^x - 1 = t $ \n",
    "라고 가정한다 <br>\n",
    "$ e^x = 1+ t $ 이고 그러므로 $ x = \\ln(1+t) $ 가 된다 <br>\n",
    "$\n",
    "= \\lim_{x \\to 0} \\dfrac{ t}{\\ln(1+t)} \\\\\n",
    "= \\lim_{x \\to 0} \\dfrac{1}{\\frac{1}{t} \\cdot \\ln(1+t)}  \\\\\n",
    "= \\lim_{x \\to 0} \\dfrac{1}{\\ln(1+t) ^ \\frac{1}{t} } \\\\\n",
    "= \\lim_{x \\to 0} \\dfrac{1}{\\ln(e) } \\\\\n",
    "= 1 \n",
    "$"
   ]
  },
  {
   "cell_type": "markdown",
   "metadata": {},
   "source": [
    "### 3. 자연수 로그\n",
    "$\n",
    "\\lim_{x \\to 0} \\dfrac{\\log_a(1+x)}{x}\\\\\n",
    "\\lim_{x \\to 0} \\dfrac{1}{x} \\cdot \\log_a(1+x) \\\\\n",
    "\\lim_{x \\to 0} \\dfrac{1}{x} \\cdot \\dfrac{\\ln(1+x)}{\\ln(a)} \\\\\n",
    "\\lim_{x \\to 0} \\dfrac{\\ln(1+x)}{x \\cdot \\ln(a)} \\\\\n",
    "\\lim_{x \\to 0} \\dfrac{\\ln(1+x)}{x}  \\cdot \\dfrac{1}{\\ln(a)} \\\\\n",
    "\\lim_{x \\to 0} \\dfrac{1}{\\ln(a)} \\\\\n",
    "$"
   ]
  },
  {
   "cell_type": "markdown",
   "metadata": {},
   "source": [
    "### 4. 자연수 지수\n",
    "\n",
    "$ \\lim_{x \\to \\infty} \\dfrac{a^x - 1}{x} $ <br>\n",
    "$ a^x - 1 = t $ \n",
    "라고 가정한다 <br>\n",
    "$ a^x = 1+ t $ 이고 그러므로 $ x = \\log_a(1+t) $ 가 된다 <br>\n",
    "$\n",
    "=\\lim_{x \\to \\infty} \\dfrac{ t}{\\log_a(1+t)} \\\\\n",
    "=\\lim_{x \\to \\infty} \\dfrac{ t}{\\frac{\\ln(1+t)}{\\ln(a)}} \\\\ \n",
    "=\\lim_{x \\to \\infty} \\dfrac{ \\ln(a) \\cdot t}{ \\ln(1+t)} \\\\ \n",
    "=\\lim_{x \\to \\infty} \\ln(a) \\cdot \\dfrac{  t}{ \\ln(1+t)} \\\\ \n",
    "=\\ln(a)\n",
    "$"
   ]
  }
 ],
 "metadata": {
  "kernelspec": {
   "display_name": "Python 3",
   "language": "python",
   "name": "python3"
  },
  "language_info": {
   "codemirror_mode": {
    "name": "ipython",
    "version": 3
   },
   "file_extension": ".py",
   "mimetype": "text/x-python",
   "name": "python",
   "nbconvert_exporter": "python",
   "pygments_lexer": "ipython3",
   "version": "3.6.4"
  }
 },
 "nbformat": 4,
 "nbformat_minor": 2
}
