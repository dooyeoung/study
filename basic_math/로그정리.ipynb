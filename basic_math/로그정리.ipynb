{
 "cells": [
  {
   "cell_type": "markdown",
   "metadata": {},
   "source": [
    "#### 로그의 성질\n",
    "로그 기본공식\n",
    "- $ \\log_a1=0 $\n",
    "- $ \\log_aa=1 $\n",
    "- $ \\log_a{xy} = \\log_x + \\log_y $\n",
    "- $ \\log_a{\\dfrac{x}{y}} = \\log_x - \\log_y $\n",
    "- $ \\log_ax^n = n\\log_ax $"
   ]
  },
  {
   "cell_type": "markdown",
   "metadata": {},
   "source": [
    " 로그 밑 변환 공식\n",
    "a>0, a$\\neq$0, b>0 일때\n",
    "1. $ \\log_ab = \\dfrac{ \\log_cb}{ \\log_ca} $\n",
    "2. $ \\log_ab = \\dfrac{1}{\\log_ba} $"
   ]
  },
  {
   "cell_type": "markdown",
   "metadata": {},
   "source": [
    ">1. 풀이 <br>\n",
    "$\\log_ab = x \\;, \\; \\log_ca = y $ 일때 <br>\n",
    "$ a^x = b \\;, \\; c^y = a $ 이므로 <br>\n",
    "$ a^x = b \\;$ 의 a에 $ c^y = a $를 대입 <br>\n",
    "$ b = (c^y)^x = c^{xy} $ 되므로 다시 로그로 변형하면 <br>\n",
    "$ \\log_c{b} = xy \\\\\n",
    "\\log_cb = \\log_ab \\cdot \\log_ca \\\\\n",
    "\\log_ab = \\dfrac{ \\log_cb}{ \\log_ca} \n",
    "$"
   ]
  },
  {
   "cell_type": "markdown",
   "metadata": {},
   "source": [
    "응용된 로그 공식\n",
    "a, b, c 1이 아닌 양수일 때\n",
    "1. $ \\log_ab \\cdot \\log_ba = 1 $\n",
    "2. $ \\log_ag \\cdot \\log_bc \\cdot \\log_cd = \\log_ad $\n",
    "3. $ a^{\\log_ab} = b $\n",
    "4. $ a^{\\log_bc} = c^{\\log_ba} $\n",
    "5. $ \\log_a^{m}b^n = \\dfrac{n}{m}\\log_ab $"
   ]
  },
  {
   "cell_type": "markdown",
   "metadata": {},
   "source": [
    "> $ a^{\\log_ab} = b $ 풀이\n",
    "> \n",
    "$a^{\\log_ab} = t $ 로 가정하자 <br>\n",
    "$ \\log_at = \\log_aa^{\\log_ab} =\\log_aa \\cdot \\log_ab \\\\\n",
    "\\log_at = \\log_ab \\\\\n",
    "t = b \\\\\n",
    "a^{\\log_ab} = b \\\\\n",
    "$ \n",
    "<br>\n",
    "지수의 밑과 지수로 있는 로그의 밑의 같으면 로그의 진수만 남게 된다.\n"
   ]
  },
  {
   "cell_type": "code",
   "execution_count": null,
   "metadata": {},
   "outputs": [],
   "source": []
  }
 ],
 "metadata": {
  "kernelspec": {
   "display_name": "Python 3",
   "language": "python",
   "name": "python3"
  },
  "language_info": {
   "codemirror_mode": {
    "name": "ipython",
    "version": 3
   },
   "file_extension": ".py",
   "mimetype": "text/x-python",
   "name": "python",
   "nbconvert_exporter": "python",
   "pygments_lexer": "ipython3",
   "version": "3.6.4"
  }
 },
 "nbformat": 4,
 "nbformat_minor": 2
}
