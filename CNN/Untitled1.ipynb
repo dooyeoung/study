{
 "cells": [
  {
   "cell_type": "code",
   "execution_count": 1,
   "metadata": {},
   "outputs": [
    {
     "name": "stderr",
     "output_type": "stream",
     "text": [
      "Using TensorFlow backend.\n"
     ]
    }
   ],
   "source": [
    "from keras.datasets import mnist\n",
    "from keras.utils import np_utils\n",
    "\n",
    "(X_train0, y_train0), (X_test0, y_test0) = mnist.load_data()\n",
    "X_train = X_train0[:, :, :, np.newaxis].astype('float32') / 255.0\n",
    "X_test = X_test0[:, :, :, np.newaxis].astype('float32') / 255.0\n",
    "Y_train = np_utils.to_categorical(y_train0, 10)\n",
    "Y_test = np_utils.to_categorical(y_test0, 10)"
   ]
  },
  {
   "cell_type": "code",
   "execution_count": 3,
   "metadata": {},
   "outputs": [
    {
     "data": {
      "text/plain": [
       "(60000, 28, 28, 1)"
      ]
     },
     "execution_count": 3,
     "metadata": {},
     "output_type": "execute_result"
    }
   ],
   "source": [
    "X_train.shape"
   ]
  },
  {
   "cell_type": "code",
   "execution_count": 4,
   "metadata": {},
   "outputs": [
    {
     "data": {
      "text/plain": [
       "(60000, 28, 28)"
      ]
     },
     "execution_count": 4,
     "metadata": {},
     "output_type": "execute_result"
    }
   ],
   "source": [
    "X_train0.shape"
   ]
  },
  {
   "cell_type": "code",
   "execution_count": 6,
   "metadata": {},
   "outputs": [],
   "source": [
    "from keras.models import Sequential\n",
    "from keras.layers import Conv2D, MaxPooling2D, Flatten, Dense, Dropout\n",
    "from keras.optimizers import Adadelta\n",
    "from keras.regularizers import l2\n",
    "\n",
    "np.random.seed(0)\n",
    "\n",
    "model1 = Sequential()\n",
    "\n",
    "# 4 채널 개수 = 필터 개수, 4종류의 특징만 찾겠다.\n",
    "# 활성함수 렐루,\n",
    "# 인풋데이터 타입 28*28\n",
    "# 흑백이나까 칼라채널 1\n",
    "model1.add(Conv2D(4, (5, 5), activation='relu', input_shape=(28, 28, 1), kernel_initializer=\"glorot_uniform\"))\n",
    "model1.add(MaxPooling2D())\n",
    "model1.add(Flatten())\n",
    "\n",
    "# 10개로 분류하니까 10,\n",
    "# 마지막단, 분류니까 소프트맥스 사용\n",
    "model1.add(Dense(10, activation='softmax',  kernel_initializer=\"glorot_uniform\"))\n",
    "\n",
    "# 최적화는 어뎁트 델타사용\n",
    "model1.compile(loss='categorical_crossentropy', metrics=['accuracy'], optimizer=Adadelta())\n",
    "\n",
    "\n",
    "# 필터 4개 돌렸기때문에 마지막 4\n",
    "# conv2d_2 (Conv2D)            (None, 24, 24, 4)         104   \n",
    "# 맥스풀링 진행\n",
    "# max_pooling2d_2 (MaxPooling2 (None, 12, 12, 4)         0   \n",
    "# 12 * 12 * 4 펼치기\n",
    "# flatten_2 (Flatten)          (None, 576)               0   "
   ]
  },
  {
   "cell_type": "code",
   "execution_count": 7,
   "metadata": {},
   "outputs": [
    {
     "name": "stdout",
     "output_type": "stream",
     "text": [
      "_________________________________________________________________\n",
      "Layer (type)                 Output Shape              Param #   \n",
      "=================================================================\n",
      "conv2d_2 (Conv2D)            (None, 24, 24, 4)         104       \n",
      "_________________________________________________________________\n",
      "max_pooling2d_2 (MaxPooling2 (None, 12, 12, 4)         0         \n",
      "_________________________________________________________________\n",
      "flatten_2 (Flatten)          (None, 576)               0         \n",
      "_________________________________________________________________\n",
      "dense_2 (Dense)              (None, 10)                5770      \n",
      "=================================================================\n",
      "Total params: 5,874\n",
      "Trainable params: 5,874\n",
      "Non-trainable params: 0\n",
      "_________________________________________________________________\n"
     ]
    }
   ],
   "source": [
    "model1.summary()"
   ]
  },
  {
   "cell_type": "code",
   "execution_count": 11,
   "metadata": {},
   "outputs": [
    {
     "name": "stdout",
     "output_type": "stream",
     "text": [
      "Train on 60000 samples, validate on 10000 samples\n",
      "Epoch 1/10\n",
      "60000/60000 [==============================] - 18s 294us/step - loss: 0.1083 - acc: 0.9688 - val_loss: 0.0930 - val_acc: 0.9719\n",
      "Epoch 2/10\n",
      "60000/60000 [==============================] - 18s 295us/step - loss: 0.0964 - acc: 0.9714 - val_loss: 0.0849 - val_acc: 0.9741\n",
      "Epoch 3/10\n",
      "60000/60000 [==============================] - 18s 308us/step - loss: 0.0884 - acc: 0.9745 - val_loss: 0.0788 - val_acc: 0.9753\n",
      "Epoch 4/10\n",
      "60000/60000 [==============================] - 21s 351us/step - loss: 0.0821 - acc: 0.9759 - val_loss: 0.0745 - val_acc: 0.9775\n",
      "Epoch 5/10\n",
      "60000/60000 [==============================] - 19s 317us/step - loss: 0.0773 - acc: 0.9775 - val_loss: 0.0723 - val_acc: 0.9782\n",
      "Epoch 6/10\n",
      "60000/60000 [==============================] - 17s 276us/step - loss: 0.0733 - acc: 0.9784 - val_loss: 0.0688 - val_acc: 0.9771\n",
      "Epoch 7/10\n",
      "60000/60000 [==============================] - 17s 290us/step - loss: 0.0700 - acc: 0.9798 - val_loss: 0.0717 - val_acc: 0.9766\n",
      "Epoch 8/10\n",
      "60000/60000 [==============================] - 19s 323us/step - loss: 0.0678 - acc: 0.9803 - val_loss: 0.0644 - val_acc: 0.9792\n",
      "Epoch 9/10\n",
      "60000/60000 [==============================] - 16s 272us/step - loss: 0.0655 - acc: 0.9807 - val_loss: 0.0672 - val_acc: 0.9788\n",
      "Epoch 10/10\n",
      "60000/60000 [==============================] - 20s 328us/step - loss: 0.0633 - acc: 0.9813 - val_loss: 0.0639 - val_acc: 0.9790\n",
      "CPU times: user 7min 35s, sys: 22.2 s, total: 7min 57s\n",
      "Wall time: 3min 3s\n"
     ]
    }
   ],
   "source": [
    "%%time\n",
    "hist1 = model1.fit(X_train, Y_train, \n",
    "                   epochs=10, batch_size=100, \n",
    "                   validation_data=(X_test, Y_test), \n",
    "                   verbose=1)"
   ]
  },
  {
   "cell_type": "code",
   "execution_count": 15,
   "metadata": {},
   "outputs": [],
   "source": [
    "%matplotlib inline"
   ]
  },
  {
   "cell_type": "code",
   "execution_count": 16,
   "metadata": {},
   "outputs": [
    {
     "data": {
      "image/png": "[encoded data removed]",
      "text/plain": [
       "<Figure size 432x288 with 1 Axes>"
      ]
     },
     "metadata": {},
     "output_type": "display_data"
    }
   ],
   "source": [
    "plt.plot(hist1.history['acc'], 'b-', label=\"training\")\n",
    "plt.plot(hist1.history['val_acc'], 'r:', label=\"test\")\n",
    "plt.legend()\n",
    "plt.show()"
   ]
  },
  {
   "cell_type": "code",
   "execution_count": null,
   "metadata": {},
   "outputs": [],
   "source": []
  }
 ],
 "metadata": {
  "kernelspec": {
   "display_name": "Python 3",
   "language": "python",
   "name": "python3"
  },
  "language_info": {
   "codemirror_mode": {
    "name": "ipython",
    "version": 3
   },
   "file_extension": ".py",
   "mimetype": "text/x-python",
   "name": "python",
   "nbconvert_exporter": "python",
   "pygments_lexer": "ipython3",
   "version": "3.6.5"
  }
 },
 "nbformat": 4,
 "nbformat_minor": 2
}
