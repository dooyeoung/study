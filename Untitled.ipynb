{
 "cells": [
  {
   "cell_type": "code",
   "execution_count": 1,
   "metadata": {},
   "outputs": [],
   "source": [
    "import redis\n",
    "r = redis.StrictRedis(host='localhost', port=6379, db=0)"
   ]
  },
  {
   "cell_type": "code",
   "execution_count": 2,
   "metadata": {},
   "outputs": [
    {
     "name": "stdout",
     "output_type": "stream",
     "text": [
      "set True\n"
     ]
    }
   ],
   "source": [
    "# set key and value \n",
    "result = r.set('foo', 'bar')\n",
    "print(\"set\", result)\n"
   ]
  },
  {
   "cell_type": "code",
   "execution_count": 3,
   "metadata": {},
   "outputs": [
    {
     "name": "stdout",
     "output_type": "stream",
     "text": [
      "get b'bar'\n"
     ]
    }
   ],
   "source": [
    "result = r.get('foo')\n",
    "print(\"get\", result)"
   ]
  },
  {
   "cell_type": "code",
   "execution_count": 4,
   "metadata": {},
   "outputs": [
    {
     "name": "stdout",
     "output_type": "stream",
     "text": [
      "get(after decode) bar\n"
     ]
    }
   ],
   "source": [
    "result = result.decode('ascii')\n",
    "print(\"get(after decode)\", result)"
   ]
  },
  {
   "cell_type": "code",
   "execution_count": 9,
   "metadata": {},
   "outputs": [
    {
     "name": "stdout",
     "output_type": "stream",
     "text": [
      "Overwriting task.py\n"
     ]
    }
   ],
   "source": [
    "%%writefile task.py\n",
    "from celery import Celery\n",
    "BROKER_URL = 'redis://localhost:6379/0' \n",
    "CELERY_RESULT_BACKEND = 'redis://localhost:6379/0'\n",
    "app = Celery('task', broker=BROKER_URL, backend=CELERY_RESULT_BACKEND)\n",
    "\n",
    "@app.task\n",
    "def prime_number(n):\n",
    "    prime_count = 0\n",
    "    for num1 in range(1, n+1):\n",
    "        is_prime = True\n",
    "    for num2 in range(2, num1):\n",
    "        if num1 % num2 == 0: \n",
    "            is_prime = False\n",
    "        if is_prime: prime_count += 1\n",
    "    return prime_count"
   ]
  },
  {
   "cell_type": "code",
   "execution_count": 11,
   "metadata": {},
   "outputs": [
    {
     "name": "stdout",
     "output_type": "stream",
     "text": [
      "1 sec : done1-False, done2-False, r_1-0, r_2-0\n",
      "2 sec : done1-False, done2-True, r_1-0, r_2-0\n",
      "3 sec : done1-False, done2-True, r_1-0, r_2-0\n",
      "4 sec : done1-True, done2-True, r_1-0, r_2-0\n"
     ]
    },
    {
     "data": {
      "text/plain": [
       "(0, 0)"
      ]
     },
     "execution_count": 11,
     "metadata": {},
     "output_type": "execute_result"
    }
   ],
   "source": [
    "import task\n",
    "result_1 = task.prime_number.delay(20000000) \n",
    "result_2 = task.prime_number.delay(100000)\n",
    "\n",
    "import time\n",
    "is_done_1, is_done_2 = False, False\n",
    "\n",
    "r_1, r_2 = 0, 0\n",
    "count = 0\n",
    "while (not is_done_1) or (not is_done_2): \n",
    "    is_done_1 = result_1.ready() \n",
    "    is_done_2 = result_2.ready() \n",
    "    time.sleep(1)\n",
    "    count += 1\n",
    "    print(\"{} sec : done1-{}, done2-{}, r_1-{}, r_2-{}\".format(count, is_done_1, is_done_2, r_1, r_2))\n",
    "\n",
    "    if is_done_1:\n",
    "        r_1 = result_1.get()\n",
    "        \n",
    "    if is_done_2:\n",
    "        r_2 = result_2.get()\n",
    "\n",
    "result_1.get(), result_2.get()"
   ]
  },
  {
   "cell_type": "code",
   "execution_count": null,
   "metadata": {},
   "outputs": [],
   "source": []
  }
 ],
 "metadata": {
  "kernelspec": {
   "display_name": "Python 3",
   "language": "python",
   "name": "python3"
  },
  "language_info": {
   "codemirror_mode": {
    "name": "ipython",
    "version": 3
   },
   "file_extension": ".py",
   "mimetype": "text/x-python",
   "name": "python",
   "nbconvert_exporter": "python",
   "pygments_lexer": "ipython3",
   "version": "3.6.5"
  }
 },
 "nbformat": 4,
 "nbformat_minor": 2
}
